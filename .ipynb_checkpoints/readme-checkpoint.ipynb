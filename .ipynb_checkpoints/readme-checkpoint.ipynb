{
 "cells": [
  {
   "cell_type": "markdown",
   "metadata": {},
   "source": [
    "# (Commercial Agencies)\n",
    "## by (Omar Alomeari)\n",
    "\n",
    "\n",
    "## Dataset\n",
    "\n",
    "> Provide basic information about your dataset in this section. If you selected your own dataset, make sure you note the source of your data and summarize any data wrangling steps that you performed before you started your exploration.\n",
    "\n",
    "\n",
    "## Summary of Findings\n",
    "\n",
    "> Summarize all of your findings from your exploration here, whether you plan on bringing them into your explanatory presentation or not.\n",
    "\n",
    "\n",
    "## Key Insights for Presentation\n",
    "\n",
    "> Select one or two main threads from your exploration to polish up for your presentation. Note any changes in design from your exploration step here."
   ]
  }
 ],
 "metadata": {
  "kernelspec": {
   "display_name": "Python 3",
   "language": "python",
   "name": "python3"
  },
  "language_info": {
   "codemirror_mode": {
    "name": "ipython",
    "version": 3
   },
   "file_extension": ".py",
   "mimetype": "text/x-python",
   "name": "python",
   "nbconvert_exporter": "python",
   "pygments_lexer": "ipython3",
   "version": "3.8.3"
  }
 },
 "nbformat": 4,
 "nbformat_minor": 4
}
