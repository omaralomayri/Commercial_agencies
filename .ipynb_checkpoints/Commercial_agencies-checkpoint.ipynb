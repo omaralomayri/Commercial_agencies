{
 "cells": [
  {
   "cell_type": "markdown",
   "metadata": {},
   "source": [
    "# Project:commercial agencies \n",
    "\n",
    "## by Omar Alomeari"
   ]
  },
  {
   "cell_type": "markdown",
   "metadata": {},
   "source": [
    "## Table of Contents\n",
    "- [Introduction](#intro)\n",
    "- [Wrangling ](#Wrangling )\n",
    "- [Data cleaning](#Data_cleaning)\n",
    "- [Analyzing and Visualizing Data](#Analyzing)\n",
    "\n",
    "\n",
    "<a id='intro'></a>\n",
    "## Introduction\n",
    "\n",
    "The project will focus on the non-Saudi agencies that were registered in 2020, compare it to 2019 and answer some questions.\n"
   ]
  },
  {
   "cell_type": "code",
   "execution_count": 1,
   "metadata": {},
   "outputs": [],
   "source": [
    "#Import libraries\n",
    "import pandas as pd\n",
    "import numpy as np \n",
    "import matplotlib.pyplot as plt\n",
    "import seaborn as sns\n",
    "import arabic_reshaper\n",
    "from bidi.algorithm import get_display\n",
    "\n",
    "%matplotlib inline "
   ]
  },
  {
   "cell_type": "code",
   "execution_count": 2,
   "metadata": {},
   "outputs": [],
   "source": [
    "pd.set_option('display.max_rows', 500)\n",
    "pd.set_option('display.max_columns', 500)\n",
    "pd.set_option('display.width', 1000)"
   ]
  },
  {
   "cell_type": "code",
   "execution_count": 3,
   "metadata": {
    "scrolled": false
   },
   "outputs": [],
   "source": [
    "#Reading files\n",
    "commercial_agencies_19=pd.read_csv(\"commercial-agencies-2019.csv\")\n",
    "commercial_agencies_20=pd.read_csv(\"commercial-agencies-2020.csv\")"
   ]
  },
  {
   "cell_type": "code",
   "execution_count": 4,
   "metadata": {
    "scrolled": true
   },
   "outputs": [
    {
     "data": {
      "text/html": [
       "<div>\n",
       "<style scoped>\n",
       "    .dataframe tbody tr th:only-of-type {\n",
       "        vertical-align: middle;\n",
       "    }\n",
       "\n",
       "    .dataframe tbody tr th {\n",
       "        vertical-align: top;\n",
       "    }\n",
       "\n",
       "    .dataframe thead th {\n",
       "        text-align: right;\n",
       "    }\n",
       "</style>\n",
       "<table border=\"1\" class=\"dataframe\">\n",
       "  <thead>\n",
       "    <tr style=\"text-align: right;\">\n",
       "      <th></th>\n",
       "      <th>RequestID</th>\n",
       "      <th>RequestDate</th>\n",
       "      <th>Status</th>\n",
       "      <th>City</th>\n",
       "      <th>Principal_Name_Ar</th>\n",
       "      <th>Principal_Name_En</th>\n",
       "      <th>Nationality</th>\n",
       "    </tr>\n",
       "  </thead>\n",
       "  <tbody>\n",
       "    <tr>\n",
       "      <th>0</th>\n",
       "      <td>45192</td>\n",
       "      <td>1/2/2019</td>\n",
       "      <td>قائمة</td>\n",
       "      <td>الدمام</td>\n",
       "      <td>أس كي أف يوروتريد ايه بي</td>\n",
       "      <td>SKF EUROTADE AB</td>\n",
       "      <td>سويديه</td>\n",
       "    </tr>\n",
       "    <tr>\n",
       "      <th>1</th>\n",
       "      <td>45193</td>\n",
       "      <td>1/2/2019</td>\n",
       "      <td>قائمة</td>\n",
       "      <td>الدمام</td>\n",
       "      <td>مطعم استاد الشاورما</td>\n",
       "      <td>NaN</td>\n",
       "      <td>المملكة العربية السعودية</td>\n",
       "    </tr>\n",
       "    <tr>\n",
       "      <th>2</th>\n",
       "      <td>45194</td>\n",
       "      <td>1/2/2019</td>\n",
       "      <td>قائمة</td>\n",
       "      <td>الدمام</td>\n",
       "      <td>ماستر تك</td>\n",
       "      <td>MASTER TECH</td>\n",
       "      <td>اماراتي</td>\n",
       "    </tr>\n",
       "    <tr>\n",
       "      <th>3</th>\n",
       "      <td>45195</td>\n",
       "      <td>1/2/2019</td>\n",
       "      <td>قائمة</td>\n",
       "      <td>الرياض</td>\n",
       "      <td>شركة لو بيتيت فيلز دو أل يوشوبارد و سي أس ايه</td>\n",
       "      <td>Le Petit-fils de L.U Chopard &amp; CIE S.A</td>\n",
       "      <td>سويسري</td>\n",
       "    </tr>\n",
       "    <tr>\n",
       "      <th>4</th>\n",
       "      <td>45196</td>\n",
       "      <td>1/3/2019</td>\n",
       "      <td>قائمة</td>\n",
       "      <td>الرياض</td>\n",
       "      <td>ميدنسي اس ار ال</td>\n",
       "      <td>Medency Srl</td>\n",
       "      <td>ايطالي</td>\n",
       "    </tr>\n",
       "  </tbody>\n",
       "</table>\n",
       "</div>"
      ],
      "text/plain": [
       "   RequestID RequestDate Status    City                              Principal_Name_Ar                        Principal_Name_En               Nationality\n",
       "0      45192    1/2/2019  قائمة  الدمام                       أس كي أف يوروتريد ايه بي                          SKF EUROTADE AB                    سويديه\n",
       "1      45193    1/2/2019  قائمة  الدمام                            مطعم استاد الشاورما                                      NaN  المملكة العربية السعودية\n",
       "2      45194    1/2/2019  قائمة  الدمام                                      ماستر تك                               MASTER TECH                   اماراتي\n",
       "3      45195    1/2/2019  قائمة  الرياض  شركة لو بيتيت فيلز دو أل يوشوبارد و سي أس ايه  Le Petit-fils de L.U Chopard & CIE S.A                     سويسري\n",
       "4      45196    1/3/2019  قائمة  الرياض                               ميدنسي اس ار ال                               Medency Srl                    ايطالي"
      ]
     },
     "execution_count": 4,
     "metadata": {},
     "output_type": "execute_result"
    }
   ],
   "source": [
    "#Checking the first few lines\n",
    "commercial_agencies_19.head()"
   ]
  },
  {
   "cell_type": "code",
   "execution_count": 5,
   "metadata": {
    "scrolled": true
   },
   "outputs": [
    {
     "data": {
      "text/html": [
       "<div>\n",
       "<style scoped>\n",
       "    .dataframe tbody tr th:only-of-type {\n",
       "        vertical-align: middle;\n",
       "    }\n",
       "\n",
       "    .dataframe tbody tr th {\n",
       "        vertical-align: top;\n",
       "    }\n",
       "\n",
       "    .dataframe thead th {\n",
       "        text-align: right;\n",
       "    }\n",
       "</style>\n",
       "<table border=\"1\" class=\"dataframe\">\n",
       "  <thead>\n",
       "    <tr style=\"text-align: right;\">\n",
       "      <th></th>\n",
       "      <th>agency name in arabic</th>\n",
       "      <th>agency name in english</th>\n",
       "      <th>agency nationality</th>\n",
       "      <th>city</th>\n",
       "      <th>agency type</th>\n",
       "      <th>agency status</th>\n",
       "      <th>activity</th>\n",
       "    </tr>\n",
       "  </thead>\n",
       "  <tbody>\n",
       "    <tr>\n",
       "      <th>0</th>\n",
       "      <td>قوام اس ار ال</td>\n",
       "      <td>QUAM SRL</td>\n",
       "      <td>ايطالي</td>\n",
       "      <td>الدمام</td>\n",
       "      <td>وكالة تجارية</td>\n",
       "      <td>قائمة</td>\n",
       "      <td>\\r\\nمنتجات الموكل من صمامات  مختلفة الاحجام وا...</td>\n",
       "    </tr>\n",
       "    <tr>\n",
       "      <th>1</th>\n",
       "      <td>بايكون اس دي ان - بي اتش دي</td>\n",
       "      <td>BAICON SDN . NHD</td>\n",
       "      <td>ماليزي</td>\n",
       "      <td>الدمام</td>\n",
       "      <td>وكالة توزيع</td>\n",
       "      <td>قائمة</td>\n",
       "      <td>( منتجات الموكل من الادوية الصيدلانية ( أنسولي...</td>\n",
       "    </tr>\n",
       "    <tr>\n",
       "      <th>2</th>\n",
       "      <td>سكن جام للتجارة العامه</td>\n",
       "      <td>SKIN JAM GENERAL TRADING</td>\n",
       "      <td>اماراتي</td>\n",
       "      <td>الدمام</td>\n",
       "      <td>وكالة امتياز</td>\n",
       "      <td>قائمة</td>\n",
       "      <td>(فتح وتشغيل محلات لبيع الآيس كريم, القهوة, الش...</td>\n",
       "    </tr>\n",
       "    <tr>\n",
       "      <th>3</th>\n",
       "      <td>\\tإبيجين لابس اف زد ال ال سي</td>\n",
       "      <td>EPYGEN LABS FZ -LLC</td>\n",
       "      <td>اماراتي</td>\n",
       "      <td>الدمام</td>\n",
       "      <td>وكالة تجارية</td>\n",
       "      <td>قائمة</td>\n",
       "      <td>(منتجات الموكل من الأنزيمات الكيميائية الخاصة ...</td>\n",
       "    </tr>\n",
       "    <tr>\n",
       "      <th>4</th>\n",
       "      <td>كازادور تكستيل سان. في إي. تي أي سي. ايه إس،</td>\n",
       "      <td>CAZADOR TEKSTIL SAN VE TIC AS</td>\n",
       "      <td>تركي</td>\n",
       "      <td>الدمام</td>\n",
       "      <td>وكالة تجارية</td>\n",
       "      <td>قائمة</td>\n",
       "      <td>(منتجات الموكل من المنسوجات والملابس والاحذية ...</td>\n",
       "    </tr>\n",
       "  </tbody>\n",
       "</table>\n",
       "</div>"
      ],
      "text/plain": [
       "                          agency name in arabic         agency name in english agency nationality    city   agency type agency status                                           activity\n",
       "0                                 قوام اس ار ال                       QUAM SRL             ايطالي  الدمام  وكالة تجارية         قائمة  \\r\\nمنتجات الموكل من صمامات  مختلفة الاحجام وا...\n",
       "1                   بايكون اس دي ان - بي اتش دي               BAICON SDN . NHD             ماليزي  الدمام   وكالة توزيع         قائمة  ( منتجات الموكل من الادوية الصيدلانية ( أنسولي...\n",
       "2                        سكن جام للتجارة العامه       SKIN JAM GENERAL TRADING            اماراتي  الدمام  وكالة امتياز         قائمة  (فتح وتشغيل محلات لبيع الآيس كريم, القهوة, الش...\n",
       "3                  \\tإبيجين لابس اف زد ال ال سي            EPYGEN LABS FZ -LLC            اماراتي  الدمام  وكالة تجارية         قائمة  (منتجات الموكل من الأنزيمات الكيميائية الخاصة ...\n",
       "4  كازادور تكستيل سان. في إي. تي أي سي. ايه إس،  CAZADOR TEKSTIL SAN VE TIC AS               تركي  الدمام  وكالة تجارية         قائمة  (منتجات الموكل من المنسوجات والملابس والاحذية ..."
      ]
     },
     "execution_count": 5,
     "metadata": {},
     "output_type": "execute_result"
    }
   ],
   "source": [
    "#Checking the first few lines\n",
    "commercial_agencies_20.head()"
   ]
  },
  {
   "cell_type": "markdown",
   "metadata": {},
   "source": [
    "Columns names in both data are different and not efficient, some of them unnecessary. The 2020 data need a date column."
   ]
  },
  {
   "cell_type": "markdown",
   "metadata": {},
   "source": [
    "<a id='Wrangling'></a>\n",
    "## Wrangling "
   ]
  },
  {
   "cell_type": "markdown",
   "metadata": {},
   "source": [
    "### Assessing data "
   ]
  },
  {
   "cell_type": "code",
   "execution_count": 6,
   "metadata": {
    "scrolled": true
   },
   "outputs": [
    {
     "name": "stdout",
     "output_type": "stream",
     "text": [
      "<class 'pandas.core.frame.DataFrame'>\n",
      "RangeIndex: 653 entries, 0 to 652\n",
      "Data columns (total 7 columns):\n",
      " #   Column             Non-Null Count  Dtype \n",
      "---  ------             --------------  ----- \n",
      " 0   RequestID          653 non-null    int64 \n",
      " 1   RequestDate        653 non-null    object\n",
      " 2   Status             653 non-null    object\n",
      " 3   City               653 non-null    object\n",
      " 4   Principal_Name_Ar  653 non-null    object\n",
      " 5   Principal_Name_En  590 non-null    object\n",
      " 6   Nationality        653 non-null    object\n",
      "dtypes: int64(1), object(6)\n",
      "memory usage: 35.8+ KB\n"
     ]
    }
   ],
   "source": [
    "#Checking number for columns and row, data type and null  \n",
    "commercial_agencies_19.info()"
   ]
  },
  {
   "cell_type": "markdown",
   "metadata": {},
   "source": [
    "The data contains 7 columns and 653 rows. The date datatype is wrong, principal name_en has missing values."
   ]
  },
  {
   "cell_type": "code",
   "execution_count": 7,
   "metadata": {
    "scrolled": false
   },
   "outputs": [
    {
     "name": "stdout",
     "output_type": "stream",
     "text": [
      "<class 'pandas.core.frame.DataFrame'>\n",
      "RangeIndex: 526 entries, 0 to 525\n",
      "Data columns (total 7 columns):\n",
      " #   Column                  Non-Null Count  Dtype \n",
      "---  ------                  --------------  ----- \n",
      " 0   agency name in arabic   504 non-null    object\n",
      " 1   agency name in english  501 non-null    object\n",
      " 2   agency nationality      526 non-null    object\n",
      " 3   city                    526 non-null    object\n",
      " 4   agency type             526 non-null    object\n",
      " 5   agency status           526 non-null    object\n",
      " 6   activity                526 non-null    object\n",
      "dtypes: object(7)\n",
      "memory usage: 28.9+ KB\n"
     ]
    }
   ],
   "source": [
    "#Checking number for columns and row, data type and null  \n",
    "commercial_agencies_20.info()"
   ]
  },
  {
   "cell_type": "markdown",
   "metadata": {},
   "source": [
    "The data contains 7 columns and 526 rows. Both agency name columns have missing values."
   ]
  },
  {
   "cell_type": "code",
   "execution_count": 8,
   "metadata": {
    "scrolled": true
   },
   "outputs": [
    {
     "data": {
      "text/html": [
       "<div>\n",
       "<style scoped>\n",
       "    .dataframe tbody tr th:only-of-type {\n",
       "        vertical-align: middle;\n",
       "    }\n",
       "\n",
       "    .dataframe tbody tr th {\n",
       "        vertical-align: top;\n",
       "    }\n",
       "\n",
       "    .dataframe thead th {\n",
       "        text-align: right;\n",
       "    }\n",
       "</style>\n",
       "<table border=\"1\" class=\"dataframe\">\n",
       "  <thead>\n",
       "    <tr style=\"text-align: right;\">\n",
       "      <th></th>\n",
       "      <th>RequestID</th>\n",
       "      <th>RequestDate</th>\n",
       "      <th>Status</th>\n",
       "      <th>City</th>\n",
       "      <th>Principal_Name_Ar</th>\n",
       "      <th>Principal_Name_En</th>\n",
       "      <th>Nationality</th>\n",
       "    </tr>\n",
       "  </thead>\n",
       "  <tbody>\n",
       "    <tr>\n",
       "      <th>1</th>\n",
       "      <td>45193</td>\n",
       "      <td>1/2/2019</td>\n",
       "      <td>قائمة</td>\n",
       "      <td>الدمام</td>\n",
       "      <td>مطعم استاد الشاورما</td>\n",
       "      <td>NaN</td>\n",
       "      <td>المملكة العربية السعودية</td>\n",
       "    </tr>\n",
       "    <tr>\n",
       "      <th>11</th>\n",
       "      <td>45203</td>\n",
       "      <td>1/9/2019</td>\n",
       "      <td>قائمة</td>\n",
       "      <td>الرياض</td>\n",
       "      <td>شركة فطيرة الفلافل للمطاعم المحدودة</td>\n",
       "      <td>NaN</td>\n",
       "      <td>المملكة العربية السعودية</td>\n",
       "    </tr>\n",
       "    <tr>\n",
       "      <th>20</th>\n",
       "      <td>45212</td>\n",
       "      <td>1/15/2019</td>\n",
       "      <td>قائمة</td>\n",
       "      <td>الرياض</td>\n",
       "      <td>شركة مصنع الراي للصناعات الدوائية</td>\n",
       "      <td>NaN</td>\n",
       "      <td>المملكة العربية السعودية</td>\n",
       "    </tr>\n",
       "    <tr>\n",
       "      <th>25</th>\n",
       "      <td>45217</td>\n",
       "      <td>1/17/2019</td>\n",
       "      <td>قائمة</td>\n",
       "      <td>الرياض</td>\n",
       "      <td>مؤسسة شلال الحلى لتقديم الوجبات</td>\n",
       "      <td>NaN</td>\n",
       "      <td>المملكة العربية السعودية</td>\n",
       "    </tr>\n",
       "    <tr>\n",
       "      <th>44</th>\n",
       "      <td>45236</td>\n",
       "      <td>1/28/2019</td>\n",
       "      <td>قائمة</td>\n",
       "      <td>الدمام</td>\n",
       "      <td>شركة الكنفاني الأصلي للكنافة</td>\n",
       "      <td>NaN</td>\n",
       "      <td>المملكة العربية السعودية</td>\n",
       "    </tr>\n",
       "    <tr>\n",
       "      <th>50</th>\n",
       "      <td>45242</td>\n",
       "      <td>1/31/2019</td>\n",
       "      <td>قائمة</td>\n",
       "      <td>الرياض</td>\n",
       "      <td>شركة الامجاد للتجارة والصناعة</td>\n",
       "      <td>NaN</td>\n",
       "      <td>المملكة العربية السعودية</td>\n",
       "    </tr>\n",
       "    <tr>\n",
       "      <th>70</th>\n",
       "      <td>45262</td>\n",
       "      <td>2/14/2019</td>\n",
       "      <td>قائمة</td>\n",
       "      <td>الرياض</td>\n",
       "      <td>فرع شركة تريند مايكرو ليمتد</td>\n",
       "      <td>NaN</td>\n",
       "      <td>المملكة العربية السعودية</td>\n",
       "    </tr>\n",
       "    <tr>\n",
       "      <th>84</th>\n",
       "      <td>45276</td>\n",
       "      <td>2/20/2019</td>\n",
       "      <td>قائمة</td>\n",
       "      <td>الدمام</td>\n",
       "      <td>شركة نابورس العربية المحدودة</td>\n",
       "      <td>NaN</td>\n",
       "      <td>المملكة العربية السعودية</td>\n",
       "    </tr>\n",
       "    <tr>\n",
       "      <th>117</th>\n",
       "      <td>45309</td>\n",
       "      <td>3/13/2019</td>\n",
       "      <td>قائمة</td>\n",
       "      <td>الدمام</td>\n",
       "      <td>شركة قطوف وحلا التجارية</td>\n",
       "      <td>NaN</td>\n",
       "      <td>المملكة العربية السعودية</td>\n",
       "    </tr>\n",
       "    <tr>\n",
       "      <th>120</th>\n",
       "      <td>45312</td>\n",
       "      <td>3/14/2019</td>\n",
       "      <td>قائمة</td>\n",
       "      <td>الرياض</td>\n",
       "      <td>شركة مشاريع التدفئه والتبريد مصنع النجمه الذهب...</td>\n",
       "      <td>NaN</td>\n",
       "      <td>المملكة العربية السعودية</td>\n",
       "    </tr>\n",
       "    <tr>\n",
       "      <th>138</th>\n",
       "      <td>45330</td>\n",
       "      <td>3/26/2019</td>\n",
       "      <td>قائمة</td>\n",
       "      <td>الدمام</td>\n",
       "      <td>شركة حمية التغذية التجارية شركة الشخص الواحد ا...</td>\n",
       "      <td>NaN</td>\n",
       "      <td>المملكة العربية السعودية</td>\n",
       "    </tr>\n",
       "    <tr>\n",
       "      <th>160</th>\n",
       "      <td>45352</td>\n",
       "      <td>4/2/2019</td>\n",
       "      <td>قائمة</td>\n",
       "      <td>الرياض</td>\n",
       "      <td>مطعم رمز الشيف لتقديم الوجبات</td>\n",
       "      <td>NaN</td>\n",
       "      <td>المملكة العربية السعودية</td>\n",
       "    </tr>\n",
       "    <tr>\n",
       "      <th>187</th>\n",
       "      <td>45379</td>\n",
       "      <td>4/11/2019</td>\n",
       "      <td>قائمة</td>\n",
       "      <td>الرياض</td>\n",
       "      <td>شركة فطيرة الفلافل للمطاعم المحدودة</td>\n",
       "      <td>NaN</td>\n",
       "      <td>المملكة العربية السعودية</td>\n",
       "    </tr>\n",
       "    <tr>\n",
       "      <th>193</th>\n",
       "      <td>45385</td>\n",
       "      <td>4/14/2019</td>\n",
       "      <td>قائمة</td>\n",
       "      <td>الدمام</td>\n",
       "      <td>شركة قطوف وحلا التجارية</td>\n",
       "      <td>NaN</td>\n",
       "      <td>المملكة العربية السعودية</td>\n",
       "    </tr>\n",
       "    <tr>\n",
       "      <th>195</th>\n",
       "      <td>45387</td>\n",
       "      <td>4/15/2019</td>\n",
       "      <td>قائمة</td>\n",
       "      <td>الدمام</td>\n",
       "      <td>مطعم استاد الشاورما</td>\n",
       "      <td>NaN</td>\n",
       "      <td>المملكة العربية السعودية</td>\n",
       "    </tr>\n",
       "    <tr>\n",
       "      <th>228</th>\n",
       "      <td>45420</td>\n",
       "      <td>4/30/2019</td>\n",
       "      <td>قائمة</td>\n",
       "      <td>الرياض</td>\n",
       "      <td>مؤسسة وسم الخليج لتقديم المشروبات</td>\n",
       "      <td>NaN</td>\n",
       "      <td>المملكة العربية السعودية</td>\n",
       "    </tr>\n",
       "    <tr>\n",
       "      <th>239</th>\n",
       "      <td>45431</td>\n",
       "      <td>5/5/2019</td>\n",
       "      <td>قائمة</td>\n",
       "      <td>الرياض</td>\n",
       "      <td>مطعم الكاتم فرع شركة زاك الدولية</td>\n",
       "      <td>NaN</td>\n",
       "      <td>المملكة العربية السعودية</td>\n",
       "    </tr>\n",
       "    <tr>\n",
       "      <th>266</th>\n",
       "      <td>45458</td>\n",
       "      <td>6/9/2019</td>\n",
       "      <td>قائمة</td>\n",
       "      <td>الرياض</td>\n",
       "      <td>شركة قمم المحترفون</td>\n",
       "      <td>NaN</td>\n",
       "      <td>المملكة العربية السعودية</td>\n",
       "    </tr>\n",
       "    <tr>\n",
       "      <th>270</th>\n",
       "      <td>45462</td>\n",
       "      <td>6/16/2019</td>\n",
       "      <td>قائمة</td>\n",
       "      <td>الرياض</td>\n",
       "      <td>شركة تالة الجود للتمور المحدوده</td>\n",
       "      <td>NaN</td>\n",
       "      <td>المملكة العربية السعودية</td>\n",
       "    </tr>\n",
       "    <tr>\n",
       "      <th>281</th>\n",
       "      <td>45473</td>\n",
       "      <td>6/23/2019</td>\n",
       "      <td>قائمة</td>\n",
       "      <td>جده</td>\n",
       "      <td>شركة فطيرة الفلافل للمطاعم المحدودة</td>\n",
       "      <td>NaN</td>\n",
       "      <td>المملكة العربية السعودية</td>\n",
       "    </tr>\n",
       "    <tr>\n",
       "      <th>282</th>\n",
       "      <td>45474</td>\n",
       "      <td>6/23/2019</td>\n",
       "      <td>قائمة</td>\n",
       "      <td>الرياض</td>\n",
       "      <td>شركة تسع مائة وأحد عشر للمطاعم المحدودة</td>\n",
       "      <td>NaN</td>\n",
       "      <td>المملكة العربية السعودية</td>\n",
       "    </tr>\n",
       "    <tr>\n",
       "      <th>288</th>\n",
       "      <td>45480</td>\n",
       "      <td>6/25/2019</td>\n",
       "      <td>قائمة</td>\n",
       "      <td>الدمام</td>\n",
       "      <td>شركة برزان للضيافة والترفيه</td>\n",
       "      <td>NaN</td>\n",
       "      <td>المملكة العربية السعودية</td>\n",
       "    </tr>\n",
       "    <tr>\n",
       "      <th>299</th>\n",
       "      <td>45491</td>\n",
       "      <td>7/2/2019</td>\n",
       "      <td>قائمة</td>\n",
       "      <td>الرياض</td>\n",
       "      <td>مركز تسويق أنظمةالأنابيب السعودي</td>\n",
       "      <td>NaN</td>\n",
       "      <td>المملكة العربية السعودية</td>\n",
       "    </tr>\n",
       "    <tr>\n",
       "      <th>331</th>\n",
       "      <td>45523</td>\n",
       "      <td>7/23/2019</td>\n",
       "      <td>قائمة</td>\n",
       "      <td>جده</td>\n",
       "      <td>شركة حمية التغذية التجارية شركة الشخص الواحد ا...</td>\n",
       "      <td>NaN</td>\n",
       "      <td>المملكة العربية السعودية</td>\n",
       "    </tr>\n",
       "    <tr>\n",
       "      <th>342</th>\n",
       "      <td>45534</td>\n",
       "      <td>8/1/2019</td>\n",
       "      <td>قائمة</td>\n",
       "      <td>الدمام</td>\n",
       "      <td>ميدل ايست للقاحات البيطرية</td>\n",
       "      <td>NaN</td>\n",
       "      <td>مصري</td>\n",
       "    </tr>\n",
       "    <tr>\n",
       "      <th>362</th>\n",
       "      <td>45554</td>\n",
       "      <td>8/22/2019</td>\n",
       "      <td>قائمة</td>\n",
       "      <td>الرياض</td>\n",
       "      <td>مطعم ملك الشاورما للوجبات السريعه</td>\n",
       "      <td>NaN</td>\n",
       "      <td>المملكة العربية السعودية</td>\n",
       "    </tr>\n",
       "    <tr>\n",
       "      <th>373</th>\n",
       "      <td>45565</td>\n",
       "      <td>8/27/2019</td>\n",
       "      <td>قائمة</td>\n",
       "      <td>الرياض</td>\n",
       "      <td>مؤسسة أكاسيم للمقاولات</td>\n",
       "      <td>NaN</td>\n",
       "      <td>المملكة العربية السعودية</td>\n",
       "    </tr>\n",
       "    <tr>\n",
       "      <th>381</th>\n",
       "      <td>45573</td>\n",
       "      <td>8/29/2019</td>\n",
       "      <td>قائمة</td>\n",
       "      <td>الرياض</td>\n",
       "      <td>مؤسسة دهني الإمارات العربية التجارية</td>\n",
       "      <td>NaN</td>\n",
       "      <td>المملكة العربية السعودية</td>\n",
       "    </tr>\n",
       "    <tr>\n",
       "      <th>396</th>\n",
       "      <td>45588</td>\n",
       "      <td>9/3/2019</td>\n",
       "      <td>قائمة</td>\n",
       "      <td>الرياض</td>\n",
       "      <td>شركة قمم المحترفون</td>\n",
       "      <td>NaN</td>\n",
       "      <td>المملكة العربية السعودية</td>\n",
       "    </tr>\n",
       "    <tr>\n",
       "      <th>407</th>\n",
       "      <td>45599</td>\n",
       "      <td>9/10/2019</td>\n",
       "      <td>قائمة</td>\n",
       "      <td>الرياض</td>\n",
       "      <td>شركة معجزة الشفاء للتجارة العامة</td>\n",
       "      <td>NaN</td>\n",
       "      <td>كويتي</td>\n",
       "    </tr>\n",
       "    <tr>\n",
       "      <th>409</th>\n",
       "      <td>45601</td>\n",
       "      <td>9/11/2019</td>\n",
       "      <td>قائمة</td>\n",
       "      <td>الرياض</td>\n",
       "      <td>1010349806</td>\n",
       "      <td>NaN</td>\n",
       "      <td>المملكة العربية السعودية</td>\n",
       "    </tr>\n",
       "    <tr>\n",
       "      <th>410</th>\n",
       "      <td>45602</td>\n",
       "      <td>9/11/2019</td>\n",
       "      <td>قائمة</td>\n",
       "      <td>الرياض</td>\n",
       "      <td>مقهى عبدالعزيز براهيم عبدالكريم الحبيب لتقديم ...</td>\n",
       "      <td>NaN</td>\n",
       "      <td>المملكة العربية السعودية</td>\n",
       "    </tr>\n",
       "    <tr>\n",
       "      <th>419</th>\n",
       "      <td>45611</td>\n",
       "      <td>9/13/2019</td>\n",
       "      <td>قائمة</td>\n",
       "      <td>الرياض</td>\n",
       "      <td>مقهى عبدالعزيز براهيم الحبيب لتقديم الوجبات</td>\n",
       "      <td>NaN</td>\n",
       "      <td>المملكة العربية السعودية</td>\n",
       "    </tr>\n",
       "    <tr>\n",
       "      <th>420</th>\n",
       "      <td>45612</td>\n",
       "      <td>9/16/2019</td>\n",
       "      <td>قائمة</td>\n",
       "      <td>جده</td>\n",
       "      <td>مطعم شطيرة الفلافل لتقديم الوجبات</td>\n",
       "      <td>NaN</td>\n",
       "      <td>المملكة العربية السعودية</td>\n",
       "    </tr>\n",
       "    <tr>\n",
       "      <th>421</th>\n",
       "      <td>45613</td>\n",
       "      <td>9/16/2019</td>\n",
       "      <td>قائمة</td>\n",
       "      <td>جده</td>\n",
       "      <td>مصنع الرحاب الحديث للعطور</td>\n",
       "      <td>NaN</td>\n",
       "      <td>المملكة العربية السعودية</td>\n",
       "    </tr>\n",
       "    <tr>\n",
       "      <th>423</th>\n",
       "      <td>45615</td>\n",
       "      <td>9/17/2019</td>\n",
       "      <td>قائمة</td>\n",
       "      <td>الرياض</td>\n",
       "      <td>مقهى عبدالعزيز براهيم عبدالكريم الحبيب لتقديم ...</td>\n",
       "      <td>NaN</td>\n",
       "      <td>المملكة العربية السعودية</td>\n",
       "    </tr>\n",
       "    <tr>\n",
       "      <th>443</th>\n",
       "      <td>45635</td>\n",
       "      <td>9/26/2019</td>\n",
       "      <td>قائمة</td>\n",
       "      <td>الرياض</td>\n",
       "      <td>لقيمات بنت القاضي</td>\n",
       "      <td>NaN</td>\n",
       "      <td>المملكة العربية السعودية</td>\n",
       "    </tr>\n",
       "    <tr>\n",
       "      <th>445</th>\n",
       "      <td>45637</td>\n",
       "      <td>9/29/2019</td>\n",
       "      <td>قائمة</td>\n",
       "      <td>الرياض</td>\n",
       "      <td>شركة شوكة وسكين للاستثمار</td>\n",
       "      <td>NaN</td>\n",
       "      <td>المملكة العربية السعودية</td>\n",
       "    </tr>\n",
       "    <tr>\n",
       "      <th>454</th>\n",
       "      <td>45646</td>\n",
       "      <td>10/1/2019</td>\n",
       "      <td>قائمة</td>\n",
       "      <td>الرياض</td>\n",
       "      <td>مطعم شاهره محمد عايض القحطاني للوجبات السريعة</td>\n",
       "      <td>NaN</td>\n",
       "      <td>المملكة العربية السعودية</td>\n",
       "    </tr>\n",
       "    <tr>\n",
       "      <th>460</th>\n",
       "      <td>45652</td>\n",
       "      <td>10/2/2019</td>\n",
       "      <td>قائمة</td>\n",
       "      <td>الدمام</td>\n",
       "      <td>مؤسسة بخيت بن صالح بن سالم اليامي للتجارة</td>\n",
       "      <td>NaN</td>\n",
       "      <td>المملكة العربية السعودية</td>\n",
       "    </tr>\n",
       "    <tr>\n",
       "      <th>484</th>\n",
       "      <td>45676</td>\n",
       "      <td>10/14/2019</td>\n",
       "      <td>قائمة</td>\n",
       "      <td>الدمام</td>\n",
       "      <td>مؤسسة نايف خيري اليامي للتجارة</td>\n",
       "      <td>NaN</td>\n",
       "      <td>المملكة العربية السعودية</td>\n",
       "    </tr>\n",
       "    <tr>\n",
       "      <th>486</th>\n",
       "      <td>45678</td>\n",
       "      <td>10/15/2019</td>\n",
       "      <td>قائمة</td>\n",
       "      <td>الدمام</td>\n",
       "      <td>مطعم مزيج الاجبان لتقديم الوجبات</td>\n",
       "      <td>NaN</td>\n",
       "      <td>المملكة العربية السعودية</td>\n",
       "    </tr>\n",
       "    <tr>\n",
       "      <th>487</th>\n",
       "      <td>45679</td>\n",
       "      <td>10/15/2019</td>\n",
       "      <td>قائمة</td>\n",
       "      <td>الرياض</td>\n",
       "      <td>شركة الاعمال التطويرية الغذائية مساهمة</td>\n",
       "      <td>NaN</td>\n",
       "      <td>المملكة العربية السعودية</td>\n",
       "    </tr>\n",
       "    <tr>\n",
       "      <th>501</th>\n",
       "      <td>45693</td>\n",
       "      <td>10/17/2019</td>\n",
       "      <td>قائمة</td>\n",
       "      <td>الدمام</td>\n",
       "      <td>شركة قطوف وحلا التجارية</td>\n",
       "      <td>NaN</td>\n",
       "      <td>المملكة العربية السعودية</td>\n",
       "    </tr>\n",
       "    <tr>\n",
       "      <th>502</th>\n",
       "      <td>45694</td>\n",
       "      <td>10/20/2019</td>\n",
       "      <td>قائمة</td>\n",
       "      <td>الدمام</td>\n",
       "      <td>شركة مذاقات للمواد الغذائية</td>\n",
       "      <td>NaN</td>\n",
       "      <td>المملكة العربية السعودية</td>\n",
       "    </tr>\n",
       "    <tr>\n",
       "      <th>525</th>\n",
       "      <td>45717</td>\n",
       "      <td>10/31/2019</td>\n",
       "      <td>قائمة</td>\n",
       "      <td>الرياض</td>\n",
       "      <td>مصنع تكنيك العناية بالعظام للجبائر الجاهزة الطبية</td>\n",
       "      <td>NaN</td>\n",
       "      <td>المملكة العربية السعودية</td>\n",
       "    </tr>\n",
       "    <tr>\n",
       "      <th>533</th>\n",
       "      <td>45725</td>\n",
       "      <td>11/3/2019</td>\n",
       "      <td>قائمة</td>\n",
       "      <td>الرياض</td>\n",
       "      <td>شركة فطيرة الفلافل للمطاعم المحدودة</td>\n",
       "      <td>NaN</td>\n",
       "      <td>المملكة العربية السعودية</td>\n",
       "    </tr>\n",
       "    <tr>\n",
       "      <th>535</th>\n",
       "      <td>45727</td>\n",
       "      <td>11/4/2019</td>\n",
       "      <td>قائمة</td>\n",
       "      <td>الدمام</td>\n",
       "      <td>مؤسسة الفريج الاول للوجبات السريعة</td>\n",
       "      <td>NaN</td>\n",
       "      <td>المملكة العربية السعودية</td>\n",
       "    </tr>\n",
       "    <tr>\n",
       "      <th>539</th>\n",
       "      <td>45731</td>\n",
       "      <td>11/5/2019</td>\n",
       "      <td>قائمة</td>\n",
       "      <td>جده</td>\n",
       "      <td>شركة الطبق الساخن التجارية</td>\n",
       "      <td>NaN</td>\n",
       "      <td>المملكة العربية السعودية</td>\n",
       "    </tr>\n",
       "    <tr>\n",
       "      <th>546</th>\n",
       "      <td>45738</td>\n",
       "      <td>11/10/2019</td>\n",
       "      <td>قائمة</td>\n",
       "      <td>الرياض</td>\n",
       "      <td>شركة قمم المحترفون</td>\n",
       "      <td>NaN</td>\n",
       "      <td>المملكة العربية السعودية</td>\n",
       "    </tr>\n",
       "    <tr>\n",
       "      <th>551</th>\n",
       "      <td>45743</td>\n",
       "      <td>11/11/2019</td>\n",
       "      <td>قائمة</td>\n",
       "      <td>الرياض</td>\n",
       "      <td>شركة فطيرة الفلافل للمطاعم المحدودة</td>\n",
       "      <td>NaN</td>\n",
       "      <td>المملكة العربية السعودية</td>\n",
       "    </tr>\n",
       "    <tr>\n",
       "      <th>554</th>\n",
       "      <td>45746</td>\n",
       "      <td>11/11/2019</td>\n",
       "      <td>قائمة</td>\n",
       "      <td>الرياض</td>\n",
       "      <td>شركة قمم المحترفون</td>\n",
       "      <td>NaN</td>\n",
       "      <td>المملكة العربية السعودية</td>\n",
       "    </tr>\n",
       "    <tr>\n",
       "      <th>556</th>\n",
       "      <td>45748</td>\n",
       "      <td>11/12/2019</td>\n",
       "      <td>قائمة</td>\n",
       "      <td>الدمام</td>\n",
       "      <td>مقهى جذور الواحة لتقديم الوجبات</td>\n",
       "      <td>NaN</td>\n",
       "      <td>المملكة العربية السعودية</td>\n",
       "    </tr>\n",
       "    <tr>\n",
       "      <th>564</th>\n",
       "      <td>45756</td>\n",
       "      <td>11/17/2019</td>\n",
       "      <td>قائمة</td>\n",
       "      <td>الدمام</td>\n",
       "      <td>مؤسسة نايف خيري صالح اليامي للتجارة</td>\n",
       "      <td>NaN</td>\n",
       "      <td>المملكة العربية السعودية</td>\n",
       "    </tr>\n",
       "    <tr>\n",
       "      <th>565</th>\n",
       "      <td>45757</td>\n",
       "      <td>11/17/2019</td>\n",
       "      <td>قائمة</td>\n",
       "      <td>الدمام</td>\n",
       "      <td>مؤسسة نايف خيري اليامي للتجارة</td>\n",
       "      <td>NaN</td>\n",
       "      <td>المملكة العربية السعودية</td>\n",
       "    </tr>\n",
       "    <tr>\n",
       "      <th>567</th>\n",
       "      <td>45759</td>\n",
       "      <td>11/19/2019</td>\n",
       "      <td>قائمة</td>\n",
       "      <td>الرياض</td>\n",
       "      <td>مصنع حلا الجزيره للحلويات لصاحبها كمال هاشم ال...</td>\n",
       "      <td>NaN</td>\n",
       "      <td>المملكة العربية السعودية</td>\n",
       "    </tr>\n",
       "    <tr>\n",
       "      <th>604</th>\n",
       "      <td>45796</td>\n",
       "      <td>12/12/2019</td>\n",
       "      <td>قائمة</td>\n",
       "      <td>الرياض</td>\n",
       "      <td>شركة الغربية الرائدة للفيبرجلاس المحدودة</td>\n",
       "      <td>NaN</td>\n",
       "      <td>المملكة العربية السعودية</td>\n",
       "    </tr>\n",
       "    <tr>\n",
       "      <th>615</th>\n",
       "      <td>45807</td>\n",
       "      <td>12/18/2019</td>\n",
       "      <td>قائمة</td>\n",
       "      <td>الدمام</td>\n",
       "      <td>شركة ام ار سي جلوبال العربية السعودية المحدودة</td>\n",
       "      <td>NaN</td>\n",
       "      <td>المملكة العربية السعودية</td>\n",
       "    </tr>\n",
       "    <tr>\n",
       "      <th>617</th>\n",
       "      <td>45809</td>\n",
       "      <td>12/18/2019</td>\n",
       "      <td>قائمة</td>\n",
       "      <td>الرياض</td>\n",
       "      <td>شركة ثري ام العربية شركة شخص واحد</td>\n",
       "      <td>NaN</td>\n",
       "      <td>المملكة العربية السعودية</td>\n",
       "    </tr>\n",
       "    <tr>\n",
       "      <th>623</th>\n",
       "      <td>45815</td>\n",
       "      <td>12/19/2019</td>\n",
       "      <td>قائمة</td>\n",
       "      <td>جده</td>\n",
       "      <td>مؤسسه ثوب الحرمين للتجارة</td>\n",
       "      <td>NaN</td>\n",
       "      <td>المملكة العربية السعودية</td>\n",
       "    </tr>\n",
       "    <tr>\n",
       "      <th>627</th>\n",
       "      <td>45819</td>\n",
       "      <td>12/20/2019</td>\n",
       "      <td>قائمة</td>\n",
       "      <td>الرياض</td>\n",
       "      <td>شركة تسع مائة وأحد عشر للمطاعم المحدودة</td>\n",
       "      <td>NaN</td>\n",
       "      <td>المملكة العربية السعودية</td>\n",
       "    </tr>\n",
       "    <tr>\n",
       "      <th>628</th>\n",
       "      <td>45820</td>\n",
       "      <td>12/21/2019</td>\n",
       "      <td>قائمة</td>\n",
       "      <td>الرياض</td>\n",
       "      <td>شركة قمم المحترفون</td>\n",
       "      <td>NaN</td>\n",
       "      <td>المملكة العربية السعودية</td>\n",
       "    </tr>\n",
       "    <tr>\n",
       "      <th>632</th>\n",
       "      <td>45824</td>\n",
       "      <td>12/24/2019</td>\n",
       "      <td>قائمة</td>\n",
       "      <td>الدمام</td>\n",
       "      <td>شركة إرم العالمية التجارية</td>\n",
       "      <td>NaN</td>\n",
       "      <td>المملكة العربية السعودية</td>\n",
       "    </tr>\n",
       "  </tbody>\n",
       "</table>\n",
       "</div>"
      ],
      "text/plain": [
       "     RequestID RequestDate Status    City                                  Principal_Name_Ar Principal_Name_En               Nationality\n",
       "1        45193    1/2/2019  قائمة  الدمام                                مطعم استاد الشاورما               NaN  المملكة العربية السعودية\n",
       "11       45203    1/9/2019  قائمة  الرياض                شركة فطيرة الفلافل للمطاعم المحدودة               NaN  المملكة العربية السعودية\n",
       "20       45212   1/15/2019  قائمة  الرياض                  شركة مصنع الراي للصناعات الدوائية               NaN  المملكة العربية السعودية\n",
       "25       45217   1/17/2019  قائمة  الرياض                    مؤسسة شلال الحلى لتقديم الوجبات               NaN  المملكة العربية السعودية\n",
       "44       45236   1/28/2019  قائمة  الدمام                       شركة الكنفاني الأصلي للكنافة               NaN  المملكة العربية السعودية\n",
       "50       45242   1/31/2019  قائمة  الرياض                      شركة الامجاد للتجارة والصناعة               NaN  المملكة العربية السعودية\n",
       "70       45262   2/14/2019  قائمة  الرياض                        فرع شركة تريند مايكرو ليمتد               NaN  المملكة العربية السعودية\n",
       "84       45276   2/20/2019  قائمة  الدمام                       شركة نابورس العربية المحدودة               NaN  المملكة العربية السعودية\n",
       "117      45309   3/13/2019  قائمة  الدمام                            شركة قطوف وحلا التجارية               NaN  المملكة العربية السعودية\n",
       "120      45312   3/14/2019  قائمة  الرياض  شركة مشاريع التدفئه والتبريد مصنع النجمه الذهب...               NaN  المملكة العربية السعودية\n",
       "138      45330   3/26/2019  قائمة  الدمام  شركة حمية التغذية التجارية شركة الشخص الواحد ا...               NaN  المملكة العربية السعودية\n",
       "160      45352    4/2/2019  قائمة  الرياض                      مطعم رمز الشيف لتقديم الوجبات               NaN  المملكة العربية السعودية\n",
       "187      45379   4/11/2019  قائمة  الرياض                شركة فطيرة الفلافل للمطاعم المحدودة               NaN  المملكة العربية السعودية\n",
       "193      45385   4/14/2019  قائمة  الدمام                            شركة قطوف وحلا التجارية               NaN  المملكة العربية السعودية\n",
       "195      45387   4/15/2019  قائمة  الدمام                                مطعم استاد الشاورما               NaN  المملكة العربية السعودية\n",
       "228      45420   4/30/2019  قائمة  الرياض                  مؤسسة وسم الخليج لتقديم المشروبات               NaN  المملكة العربية السعودية\n",
       "239      45431    5/5/2019  قائمة  الرياض                   مطعم الكاتم فرع شركة زاك الدولية               NaN  المملكة العربية السعودية\n",
       "266      45458    6/9/2019  قائمة  الرياض                                 شركة قمم المحترفون               NaN  المملكة العربية السعودية\n",
       "270      45462   6/16/2019  قائمة  الرياض                    شركة تالة الجود للتمور المحدوده               NaN  المملكة العربية السعودية\n",
       "281      45473   6/23/2019  قائمة     جده                شركة فطيرة الفلافل للمطاعم المحدودة               NaN  المملكة العربية السعودية\n",
       "282      45474   6/23/2019  قائمة  الرياض            شركة تسع مائة وأحد عشر للمطاعم المحدودة               NaN  المملكة العربية السعودية\n",
       "288      45480   6/25/2019  قائمة  الدمام                        شركة برزان للضيافة والترفيه               NaN  المملكة العربية السعودية\n",
       "299      45491    7/2/2019  قائمة  الرياض                   مركز تسويق أنظمةالأنابيب السعودي               NaN  المملكة العربية السعودية\n",
       "331      45523   7/23/2019  قائمة     جده  شركة حمية التغذية التجارية شركة الشخص الواحد ا...               NaN  المملكة العربية السعودية\n",
       "342      45534    8/1/2019  قائمة  الدمام                        ميدل ايست للقاحات البيطرية                NaN                      مصري\n",
       "362      45554   8/22/2019  قائمة  الرياض                  مطعم ملك الشاورما للوجبات السريعه               NaN  المملكة العربية السعودية\n",
       "373      45565   8/27/2019  قائمة  الرياض                             مؤسسة أكاسيم للمقاولات               NaN  المملكة العربية السعودية\n",
       "381      45573   8/29/2019  قائمة  الرياض               مؤسسة دهني الإمارات العربية التجارية               NaN  المملكة العربية السعودية\n",
       "396      45588    9/3/2019  قائمة  الرياض                                 شركة قمم المحترفون               NaN  المملكة العربية السعودية\n",
       "407      45599   9/10/2019  قائمة  الرياض                   شركة معجزة الشفاء للتجارة العامة               NaN                     كويتي\n",
       "409      45601   9/11/2019  قائمة  الرياض                                         1010349806               NaN  المملكة العربية السعودية\n",
       "410      45602   9/11/2019  قائمة  الرياض  مقهى عبدالعزيز براهيم عبدالكريم الحبيب لتقديم ...               NaN  المملكة العربية السعودية\n",
       "419      45611   9/13/2019  قائمة  الرياض        مقهى عبدالعزيز براهيم الحبيب لتقديم الوجبات               NaN  المملكة العربية السعودية\n",
       "420      45612   9/16/2019  قائمة     جده                  مطعم شطيرة الفلافل لتقديم الوجبات               NaN  المملكة العربية السعودية\n",
       "421      45613   9/16/2019  قائمة     جده                          مصنع الرحاب الحديث للعطور               NaN  المملكة العربية السعودية\n",
       "423      45615   9/17/2019  قائمة  الرياض  مقهى عبدالعزيز براهيم عبدالكريم الحبيب لتقديم ...               NaN  المملكة العربية السعودية\n",
       "443      45635   9/26/2019  قائمة  الرياض                                  لقيمات بنت القاضي               NaN  المملكة العربية السعودية\n",
       "445      45637   9/29/2019  قائمة  الرياض                          شركة شوكة وسكين للاستثمار               NaN  المملكة العربية السعودية\n",
       "454      45646   10/1/2019  قائمة  الرياض      مطعم شاهره محمد عايض القحطاني للوجبات السريعة               NaN  المملكة العربية السعودية\n",
       "460      45652   10/2/2019  قائمة  الدمام          مؤسسة بخيت بن صالح بن سالم اليامي للتجارة               NaN  المملكة العربية السعودية\n",
       "484      45676  10/14/2019  قائمة  الدمام                     مؤسسة نايف خيري اليامي للتجارة               NaN  المملكة العربية السعودية\n",
       "486      45678  10/15/2019  قائمة  الدمام                   مطعم مزيج الاجبان لتقديم الوجبات               NaN  المملكة العربية السعودية\n",
       "487      45679  10/15/2019  قائمة  الرياض             شركة الاعمال التطويرية الغذائية مساهمة               NaN  المملكة العربية السعودية\n",
       "501      45693  10/17/2019  قائمة  الدمام                            شركة قطوف وحلا التجارية               NaN  المملكة العربية السعودية\n",
       "502      45694  10/20/2019  قائمة  الدمام                        شركة مذاقات للمواد الغذائية               NaN  المملكة العربية السعودية\n",
       "525      45717  10/31/2019  قائمة  الرياض  مصنع تكنيك العناية بالعظام للجبائر الجاهزة الطبية               NaN  المملكة العربية السعودية\n",
       "533      45725   11/3/2019  قائمة  الرياض                شركة فطيرة الفلافل للمطاعم المحدودة               NaN  المملكة العربية السعودية\n",
       "535      45727   11/4/2019  قائمة  الدمام                 مؤسسة الفريج الاول للوجبات السريعة               NaN  المملكة العربية السعودية\n",
       "539      45731   11/5/2019  قائمة     جده                         شركة الطبق الساخن التجارية               NaN  المملكة العربية السعودية\n",
       "546      45738  11/10/2019  قائمة  الرياض                                 شركة قمم المحترفون               NaN  المملكة العربية السعودية\n",
       "551      45743  11/11/2019  قائمة  الرياض                شركة فطيرة الفلافل للمطاعم المحدودة               NaN  المملكة العربية السعودية\n",
       "554      45746  11/11/2019  قائمة  الرياض                                شركة قمم المحترفون                NaN  المملكة العربية السعودية\n",
       "556      45748  11/12/2019  قائمة  الدمام                    مقهى جذور الواحة لتقديم الوجبات               NaN  المملكة العربية السعودية\n",
       "564      45756  11/17/2019  قائمة  الدمام                مؤسسة نايف خيري صالح اليامي للتجارة               NaN  المملكة العربية السعودية\n",
       "565      45757  11/17/2019  قائمة  الدمام                     مؤسسة نايف خيري اليامي للتجارة               NaN  المملكة العربية السعودية\n",
       "567      45759  11/19/2019  قائمة  الرياض  مصنع حلا الجزيره للحلويات لصاحبها كمال هاشم ال...               NaN  المملكة العربية السعودية\n",
       "604      45796  12/12/2019  قائمة  الرياض           شركة الغربية الرائدة للفيبرجلاس المحدودة               NaN  المملكة العربية السعودية\n",
       "615      45807  12/18/2019  قائمة  الدمام     شركة ام ار سي جلوبال العربية السعودية المحدودة               NaN  المملكة العربية السعودية\n",
       "617      45809  12/18/2019  قائمة  الرياض                  شركة ثري ام العربية شركة شخص واحد               NaN  المملكة العربية السعودية\n",
       "623      45815  12/19/2019  قائمة     جده                          مؤسسه ثوب الحرمين للتجارة               NaN  المملكة العربية السعودية\n",
       "627      45819  12/20/2019  قائمة  الرياض            شركة تسع مائة وأحد عشر للمطاعم المحدودة               NaN  المملكة العربية السعودية\n",
       "628      45820  12/21/2019  قائمة  الرياض                                 شركة قمم المحترفون               NaN  المملكة العربية السعودية\n",
       "632      45824  12/24/2019  قائمة  الدمام                         شركة إرم العالمية التجارية               NaN  المملكة العربية السعودية"
      ]
     },
     "execution_count": 8,
     "metadata": {},
     "output_type": "execute_result"
    }
   ],
   "source": [
    "#Checking missing values for 2019 dataset\n",
    "commercial_agencies_19[commercial_agencies_19.isna().any(axis=1)]"
   ]
  },
  {
   "cell_type": "code",
   "execution_count": 9,
   "metadata": {
    "scrolled": true
   },
   "outputs": [
    {
     "data": {
      "text/html": [
       "<div>\n",
       "<style scoped>\n",
       "    .dataframe tbody tr th:only-of-type {\n",
       "        vertical-align: middle;\n",
       "    }\n",
       "\n",
       "    .dataframe tbody tr th {\n",
       "        vertical-align: top;\n",
       "    }\n",
       "\n",
       "    .dataframe thead th {\n",
       "        text-align: right;\n",
       "    }\n",
       "</style>\n",
       "<table border=\"1\" class=\"dataframe\">\n",
       "  <thead>\n",
       "    <tr style=\"text-align: right;\">\n",
       "      <th></th>\n",
       "      <th>agency name in arabic</th>\n",
       "      <th>agency name in english</th>\n",
       "      <th>agency nationality</th>\n",
       "      <th>city</th>\n",
       "      <th>agency type</th>\n",
       "      <th>agency status</th>\n",
       "      <th>activity</th>\n",
       "    </tr>\n",
       "  </thead>\n",
       "  <tbody>\n",
       "    <tr>\n",
       "      <th>5</th>\n",
       "      <td>NaN</td>\n",
       "      <td>NaN</td>\n",
       "      <td>المملكة العربية السعودية</td>\n",
       "      <td>الدمام</td>\n",
       "      <td>وكالة توزيع</td>\n",
       "      <td>قائمة</td>\n",
       "      <td>ابواب خشبية- ديكورات خشبية- مغاسل خشبية-خزائن-...</td>\n",
       "    </tr>\n",
       "    <tr>\n",
       "      <th>31</th>\n",
       "      <td>NaN</td>\n",
       "      <td>NaN</td>\n",
       "      <td>المملكة العربية السعودية</td>\n",
       "      <td>الدمام</td>\n",
       "      <td>وكالة امتياز</td>\n",
       "      <td>قائمة</td>\n",
       "      <td>فتح وتشغيل سلسلة مطاعم لتقديم الوجبات والمشروب...</td>\n",
       "    </tr>\n",
       "    <tr>\n",
       "      <th>32</th>\n",
       "      <td>NaN</td>\n",
       "      <td>NaN</td>\n",
       "      <td>المملكة العربية السعودية</td>\n",
       "      <td>الدمام</td>\n",
       "      <td>وكالة امتياز</td>\n",
       "      <td>قائمة</td>\n",
       "      <td>فتح وتشغيل سلسلة من المحلات لتقديم الوجبات الخ...</td>\n",
       "    </tr>\n",
       "    <tr>\n",
       "      <th>137</th>\n",
       "      <td>الشركة الاوربية المصرية للصناعات الدوائية</td>\n",
       "      <td>NaN</td>\n",
       "      <td>مصري</td>\n",
       "      <td>الرياض</td>\n",
       "      <td>وكالة توزيع</td>\n",
       "      <td>قائمة</td>\n",
       "      <td>توزيع منجات الموكل من الادوية والمستحضرات الطبية</td>\n",
       "    </tr>\n",
       "    <tr>\n",
       "      <th>138</th>\n",
       "      <td>شركة سوليديريتي السعودية للتكافل</td>\n",
       "      <td>NaN</td>\n",
       "      <td>المملكة العربية السعودية</td>\n",
       "      <td>الرياض</td>\n",
       "      <td>وكالة تجارية</td>\n",
       "      <td>قائمة</td>\n",
       "      <td>خدمات الموكل من التأمين \\r\\n\\r\\n</td>\n",
       "    </tr>\n",
       "    <tr>\n",
       "      <th>142</th>\n",
       "      <td>NaN</td>\n",
       "      <td>NaN</td>\n",
       "      <td>المملكة العربية السعودية</td>\n",
       "      <td>الرياض</td>\n",
       "      <td>وكالة توزيع</td>\n",
       "      <td>قائمة</td>\n",
       "      <td>خدمات الموكل من برامج وحلول الحماية من الفيروس...</td>\n",
       "    </tr>\n",
       "    <tr>\n",
       "      <th>146</th>\n",
       "      <td>NaN</td>\n",
       "      <td>NaN</td>\n",
       "      <td>المملكة العربية السعودية</td>\n",
       "      <td>الرياض</td>\n",
       "      <td>وكالة تجارية</td>\n",
       "      <td>قائمة</td>\n",
       "      <td>خدمات ومنتجات الموكل من العناية بسيارات والتضل...</td>\n",
       "    </tr>\n",
       "    <tr>\n",
       "      <th>149</th>\n",
       "      <td>NaN</td>\n",
       "      <td>NaN</td>\n",
       "      <td>المملكة العربية السعودية</td>\n",
       "      <td>الرياض</td>\n",
       "      <td>وكالة امتياز</td>\n",
       "      <td>قائمة</td>\n",
       "      <td>فتح و تشغيل مركز لبرامج التعليم الترفيه الخاصة...</td>\n",
       "    </tr>\n",
       "    <tr>\n",
       "      <th>159</th>\n",
       "      <td>NaN</td>\n",
       "      <td>NaN</td>\n",
       "      <td>المملكة العربية السعودية</td>\n",
       "      <td>الرياض</td>\n",
       "      <td>وكالة امتياز</td>\n",
       "      <td>قائمة</td>\n",
       "      <td>فتح وتشغيل المطاعم تحت العلامة التجارية فطيرة ...</td>\n",
       "    </tr>\n",
       "    <tr>\n",
       "      <th>162</th>\n",
       "      <td>NaN</td>\n",
       "      <td>NaN</td>\n",
       "      <td>المملكة العربية السعودية</td>\n",
       "      <td>الرياض</td>\n",
       "      <td>وكالة امتياز</td>\n",
       "      <td>قائمة</td>\n",
       "      <td>فتح وتشغيل سلسلة مطاعم لبيع الوجبات السريعة وا...</td>\n",
       "    </tr>\n",
       "    <tr>\n",
       "      <th>165</th>\n",
       "      <td>NaN</td>\n",
       "      <td>NaN</td>\n",
       "      <td>المملكة العربية السعودية</td>\n",
       "      <td>الرياض</td>\n",
       "      <td>وكالة توزيع</td>\n",
       "      <td>قائمة</td>\n",
       "      <td>فتح وتشغيل محل  مغاسل الملابس</td>\n",
       "    </tr>\n",
       "    <tr>\n",
       "      <th>166</th>\n",
       "      <td>NaN</td>\n",
       "      <td>NaN</td>\n",
       "      <td>المملكة العربية السعودية</td>\n",
       "      <td>الرياض</td>\n",
       "      <td>وكالة امتياز</td>\n",
       "      <td>قائمة</td>\n",
       "      <td>فتح وتشغيل محل تحت العلامة التجارية فن الكنافة...</td>\n",
       "    </tr>\n",
       "    <tr>\n",
       "      <th>167</th>\n",
       "      <td>NaN</td>\n",
       "      <td>NaN</td>\n",
       "      <td>المملكة العربية السعودية</td>\n",
       "      <td>الرياض</td>\n",
       "      <td>وكالة امتياز</td>\n",
       "      <td>قائمة</td>\n",
       "      <td>فتح وتشغيل محلات الايس كريم تحت العلامة التجار...</td>\n",
       "    </tr>\n",
       "    <tr>\n",
       "      <th>168</th>\n",
       "      <td>NaN</td>\n",
       "      <td>NaN</td>\n",
       "      <td>المملكة العربية السعودية</td>\n",
       "      <td>الرياض</td>\n",
       "      <td>وكالة توزيع</td>\n",
       "      <td>قائمة</td>\n",
       "      <td>فتح وتشغيل محلات الايسكريم وفق العقد</td>\n",
       "    </tr>\n",
       "    <tr>\n",
       "      <th>169</th>\n",
       "      <td>NaN</td>\n",
       "      <td>NaN</td>\n",
       "      <td>المملكة العربية السعودية</td>\n",
       "      <td>الرياض</td>\n",
       "      <td>وكالة امتياز</td>\n",
       "      <td>قائمة</td>\n",
       "      <td>فتح وتشغيل محلات القهوة لبيع المشروبات الساخنة...</td>\n",
       "    </tr>\n",
       "    <tr>\n",
       "      <th>170</th>\n",
       "      <td>NaN</td>\n",
       "      <td>NaN</td>\n",
       "      <td>المملكة العربية السعودية</td>\n",
       "      <td>الرياض</td>\n",
       "      <td>وكالة امتياز</td>\n",
       "      <td>قائمة</td>\n",
       "      <td>فتح وتشغيل محلات القهوة لبيع المشروبات الساخنة...</td>\n",
       "    </tr>\n",
       "    <tr>\n",
       "      <th>172</th>\n",
       "      <td>NaN</td>\n",
       "      <td>NaN</td>\n",
       "      <td>المملكة العربية السعودية</td>\n",
       "      <td>الرياض</td>\n",
       "      <td>وكالة توزيع</td>\n",
       "      <td>قائمة</td>\n",
       "      <td>فتح وتشغيل محلات بيع المأكولات الخفيفة</td>\n",
       "    </tr>\n",
       "    <tr>\n",
       "      <th>173</th>\n",
       "      <td>NaN</td>\n",
       "      <td>NaN</td>\n",
       "      <td>المملكة العربية السعودية</td>\n",
       "      <td>الرياض</td>\n",
       "      <td>وكالة امتياز</td>\n",
       "      <td>قائمة</td>\n",
       "      <td>فتح وتشغيل محلات كوفي شوب لبيع المشروبات الساخ...</td>\n",
       "    </tr>\n",
       "    <tr>\n",
       "      <th>177</th>\n",
       "      <td>NaN</td>\n",
       "      <td>NaN</td>\n",
       "      <td>المملكة العربية السعودية</td>\n",
       "      <td>الرياض</td>\n",
       "      <td>وكالة امتياز</td>\n",
       "      <td>قائمة</td>\n",
       "      <td>فتح وتشغيل مطاعم ( بمنظقة عسير فقط )</td>\n",
       "    </tr>\n",
       "    <tr>\n",
       "      <th>181</th>\n",
       "      <td>NaN</td>\n",
       "      <td>NaN</td>\n",
       "      <td>المملكة العربية السعودية</td>\n",
       "      <td>الرياض</td>\n",
       "      <td>وكالة امتياز</td>\n",
       "      <td>قائمة</td>\n",
       "      <td>فتح وتشغيل مطاعم فلافل</td>\n",
       "    </tr>\n",
       "    <tr>\n",
       "      <th>182</th>\n",
       "      <td>NaN</td>\n",
       "      <td>NaN</td>\n",
       "      <td>المملكة العربية السعودية</td>\n",
       "      <td>الرياض</td>\n",
       "      <td>وكالة امتياز</td>\n",
       "      <td>قائمة</td>\n",
       "      <td>فتح وتشغيل مطاعم لتقديم الوجبات الجاهزة والمشر...</td>\n",
       "    </tr>\n",
       "    <tr>\n",
       "      <th>337</th>\n",
       "      <td>شركة بلان المحدودة</td>\n",
       "      <td>NaN</td>\n",
       "      <td>المملكة العربية السعودية</td>\n",
       "      <td>الرياض</td>\n",
       "      <td>وكالة توزيع</td>\n",
       "      <td>قائمة</td>\n",
       "      <td>منتجات الموكل من الثياب الرجالية والقمصان الرج...</td>\n",
       "    </tr>\n",
       "    <tr>\n",
       "      <th>358</th>\n",
       "      <td>NaN</td>\n",
       "      <td>NaN</td>\n",
       "      <td>المملكة العربية السعودية</td>\n",
       "      <td>الرياض</td>\n",
       "      <td>وكالة توزيع</td>\n",
       "      <td>قائمة</td>\n",
       "      <td>منتجات الموكل من المبيدات الحشرية  دوديم 4 % م...</td>\n",
       "    </tr>\n",
       "    <tr>\n",
       "      <th>452</th>\n",
       "      <td>NaN</td>\n",
       "      <td>NaN</td>\n",
       "      <td>المملكة العربية السعودية</td>\n",
       "      <td>الرياض</td>\n",
       "      <td>وكالة تجارية</td>\n",
       "      <td>قائمة</td>\n",
       "      <td>منتجات وخدمات الموكل من تركيب الابواب الخشبية ...</td>\n",
       "    </tr>\n",
       "    <tr>\n",
       "      <th>474</th>\n",
       "      <td>NaN</td>\n",
       "      <td>NaN</td>\n",
       "      <td>المملكة العربية السعودية</td>\n",
       "      <td>جده</td>\n",
       "      <td>وكالة امتياز</td>\n",
       "      <td>قائمة</td>\n",
       "      <td>فتح وتشغيل المطاعم تحت العلامه التجارية فلافلكم</td>\n",
       "    </tr>\n",
       "  </tbody>\n",
       "</table>\n",
       "</div>"
      ],
      "text/plain": [
       "                         agency name in arabic agency name in english        agency nationality    city   agency type agency status                                           activity\n",
       "5                                          NaN                    NaN  المملكة العربية السعودية  الدمام   وكالة توزيع         قائمة  ابواب خشبية- ديكورات خشبية- مغاسل خشبية-خزائن-...\n",
       "31                                         NaN                    NaN  المملكة العربية السعودية  الدمام  وكالة امتياز         قائمة  فتح وتشغيل سلسلة مطاعم لتقديم الوجبات والمشروب...\n",
       "32                                         NaN                    NaN  المملكة العربية السعودية  الدمام  وكالة امتياز         قائمة  فتح وتشغيل سلسلة من المحلات لتقديم الوجبات الخ...\n",
       "137  الشركة الاوربية المصرية للصناعات الدوائية                    NaN                      مصري  الرياض   وكالة توزيع         قائمة   توزيع منجات الموكل من الادوية والمستحضرات الطبية\n",
       "138           شركة سوليديريتي السعودية للتكافل                    NaN  المملكة العربية السعودية  الرياض  وكالة تجارية         قائمة                   خدمات الموكل من التأمين \\r\\n\\r\\n\n",
       "142                                        NaN                    NaN  المملكة العربية السعودية  الرياض   وكالة توزيع         قائمة  خدمات الموكل من برامج وحلول الحماية من الفيروس...\n",
       "146                                        NaN                    NaN  المملكة العربية السعودية  الرياض  وكالة تجارية         قائمة  خدمات ومنتجات الموكل من العناية بسيارات والتضل...\n",
       "149                                        NaN                    NaN  المملكة العربية السعودية  الرياض  وكالة امتياز         قائمة  فتح و تشغيل مركز لبرامج التعليم الترفيه الخاصة...\n",
       "159                                        NaN                    NaN  المملكة العربية السعودية  الرياض  وكالة امتياز         قائمة  فتح وتشغيل المطاعم تحت العلامة التجارية فطيرة ...\n",
       "162                                        NaN                    NaN  المملكة العربية السعودية  الرياض  وكالة امتياز         قائمة  فتح وتشغيل سلسلة مطاعم لبيع الوجبات السريعة وا...\n",
       "165                                        NaN                    NaN  المملكة العربية السعودية  الرياض   وكالة توزيع         قائمة                      فتح وتشغيل محل  مغاسل الملابس\n",
       "166                                        NaN                    NaN  المملكة العربية السعودية  الرياض  وكالة امتياز         قائمة  فتح وتشغيل محل تحت العلامة التجارية فن الكنافة...\n",
       "167                                        NaN                    NaN  المملكة العربية السعودية  الرياض  وكالة امتياز         قائمة  فتح وتشغيل محلات الايس كريم تحت العلامة التجار...\n",
       "168                                        NaN                    NaN  المملكة العربية السعودية  الرياض   وكالة توزيع         قائمة               فتح وتشغيل محلات الايسكريم وفق العقد\n",
       "169                                        NaN                    NaN  المملكة العربية السعودية  الرياض  وكالة امتياز         قائمة  فتح وتشغيل محلات القهوة لبيع المشروبات الساخنة...\n",
       "170                                        NaN                    NaN  المملكة العربية السعودية  الرياض  وكالة امتياز         قائمة  فتح وتشغيل محلات القهوة لبيع المشروبات الساخنة...\n",
       "172                                        NaN                    NaN  المملكة العربية السعودية  الرياض   وكالة توزيع         قائمة             فتح وتشغيل محلات بيع المأكولات الخفيفة\n",
       "173                                        NaN                    NaN  المملكة العربية السعودية  الرياض  وكالة امتياز         قائمة  فتح وتشغيل محلات كوفي شوب لبيع المشروبات الساخ...\n",
       "177                                        NaN                    NaN  المملكة العربية السعودية  الرياض  وكالة امتياز         قائمة               فتح وتشغيل مطاعم ( بمنظقة عسير فقط )\n",
       "181                                        NaN                    NaN  المملكة العربية السعودية  الرياض  وكالة امتياز         قائمة                             فتح وتشغيل مطاعم فلافل\n",
       "182                                        NaN                    NaN  المملكة العربية السعودية  الرياض  وكالة امتياز         قائمة  فتح وتشغيل مطاعم لتقديم الوجبات الجاهزة والمشر...\n",
       "337                         شركة بلان المحدودة                    NaN  المملكة العربية السعودية  الرياض   وكالة توزيع         قائمة  منتجات الموكل من الثياب الرجالية والقمصان الرج...\n",
       "358                                        NaN                    NaN  المملكة العربية السعودية  الرياض   وكالة توزيع         قائمة  منتجات الموكل من المبيدات الحشرية  دوديم 4 % م...\n",
       "452                                        NaN                    NaN  المملكة العربية السعودية  الرياض  وكالة تجارية         قائمة  منتجات وخدمات الموكل من تركيب الابواب الخشبية ...\n",
       "474                                        NaN                    NaN  المملكة العربية السعودية     جده  وكالة امتياز         قائمة    فتح وتشغيل المطاعم تحت العلامه التجارية فلافلكم"
      ]
     },
     "execution_count": 9,
     "metadata": {},
     "output_type": "execute_result"
    }
   ],
   "source": [
    "#Checking missing values for 2020 dataset\n",
    "commercial_agencies_20[commercial_agencies_20.isna().any(axis=1)]"
   ]
  },
  {
   "cell_type": "markdown",
   "metadata": {},
   "source": [
    "Almost all missing values are Saudi agency except for three-row."
   ]
  },
  {
   "cell_type": "code",
   "execution_count": 10,
   "metadata": {},
   "outputs": [
    {
     "data": {
      "text/plain": [
       "0"
      ]
     },
     "execution_count": 10,
     "metadata": {},
     "output_type": "execute_result"
    }
   ],
   "source": [
    "#Checking for duplicates \n",
    "sum(commercial_agencies_19.duplicated())"
   ]
  },
  {
   "cell_type": "code",
   "execution_count": 11,
   "metadata": {},
   "outputs": [
    {
     "data": {
      "text/plain": [
       "0"
      ]
     },
     "execution_count": 11,
     "metadata": {},
     "output_type": "execute_result"
    }
   ],
   "source": [
    "#Checking for duplicates\n",
    "sum(commercial_agencies_20.duplicated())"
   ]
  },
  {
   "cell_type": "code",
   "execution_count": 12,
   "metadata": {},
   "outputs": [
    {
     "data": {
      "text/plain": [
       "قائمة     652\n",
       "مشطوبة      1\n",
       "Name: Status, dtype: int64"
      ]
     },
     "execution_count": 12,
     "metadata": {},
     "output_type": "execute_result"
    }
   ],
   "source": [
    "#Checking for nonactive agency\n",
    "commercial_agencies_19.Status.value_counts()"
   ]
  },
  {
   "cell_type": "code",
   "execution_count": 13,
   "metadata": {},
   "outputs": [
    {
     "data": {
      "text/plain": [
       "قائمة    526\n",
       "Name: agency status, dtype: int64"
      ]
     },
     "execution_count": 13,
     "metadata": {},
     "output_type": "execute_result"
    }
   ],
   "source": [
    "#Checking for nonactive agency\n",
    "commercial_agencies_20['agency status'].value_counts()"
   ]
  },
  {
   "cell_type": "code",
   "execution_count": 14,
   "metadata": {},
   "outputs": [
    {
     "data": {
      "text/html": [
       "<div>\n",
       "<style scoped>\n",
       "    .dataframe tbody tr th:only-of-type {\n",
       "        vertical-align: middle;\n",
       "    }\n",
       "\n",
       "    .dataframe tbody tr th {\n",
       "        vertical-align: top;\n",
       "    }\n",
       "\n",
       "    .dataframe thead th {\n",
       "        text-align: right;\n",
       "    }\n",
       "</style>\n",
       "<table border=\"1\" class=\"dataframe\">\n",
       "  <thead>\n",
       "    <tr style=\"text-align: right;\">\n",
       "      <th></th>\n",
       "      <th>RequestID</th>\n",
       "      <th>RequestDate</th>\n",
       "      <th>Status</th>\n",
       "      <th>City</th>\n",
       "      <th>Principal_Name_Ar</th>\n",
       "      <th>Principal_Name_En</th>\n",
       "      <th>Nationality</th>\n",
       "    </tr>\n",
       "  </thead>\n",
       "  <tbody>\n",
       "    <tr>\n",
       "      <th>127</th>\n",
       "      <td>45319</td>\n",
       "      <td>3/18/2019</td>\n",
       "      <td>مشطوبة</td>\n",
       "      <td>الرياض</td>\n",
       "      <td>شركة دونجوان هيلي اليكترونيكس كو.،ليمتد</td>\n",
       "      <td>Dongguan Hele Electronics Co., Ltd</td>\n",
       "      <td>الصين الشعبيه</td>\n",
       "    </tr>\n",
       "  </tbody>\n",
       "</table>\n",
       "</div>"
      ],
      "text/plain": [
       "     RequestID RequestDate  Status    City                        Principal_Name_Ar                   Principal_Name_En    Nationality\n",
       "127      45319   3/18/2019  مشطوبة  الرياض  شركة دونجوان هيلي اليكترونيكس كو.،ليمتد  Dongguan Hele Electronics Co., Ltd  الصين الشعبيه"
      ]
     },
     "execution_count": 14,
     "metadata": {},
     "output_type": "execute_result"
    }
   ],
   "source": [
    "#Getting index for nonactive agency\n",
    "commercial_agencies_19[commercial_agencies_19.Status=='مشطوبة']"
   ]
  },
  {
   "cell_type": "markdown",
   "metadata": {},
   "source": [
    "No duplicate was found in both data.\n",
    "There is a non-active agency in 2019 data."
   ]
  },
  {
   "cell_type": "code",
   "execution_count": 15,
   "metadata": {
    "scrolled": true
   },
   "outputs": [
    {
     "data": {
      "text/plain": [
       "المملكة العربية السعودية    70\n",
       "الصين الشعبيه               67\n",
       "امريكي                      63\n",
       "بريطاني                     40\n",
       "الماني                      37\n",
       "ايطالي                      36\n",
       "اماراتي                     36\n",
       "سويسري                      25\n",
       "هندي                        25\n",
       "كوريه الجنوبيه              21\n",
       "تركي                        21\n",
       "فرنسي                       20\n",
       "مصري                        18\n",
       "هولندي                      16\n",
       "اسباني                      16\n",
       "اردني                       12\n",
       "بلجيكي                      11\n",
       "كويتي                        9\n",
       "ماليزي                       8\n",
       "ايرلندي                      7\n",
       "نرويجيه                      7\n",
       "سويديه                       6\n",
       "دنمركيه                      5\n",
       "يونانيه                      5\n",
       "بولندي                       4\n",
       "استرالي                      4\n",
       "ياباني                       4\n",
       "برازيلي                      4\n",
       "سنغافوريه                    4\n",
       "صينيه وطنيه - تايوان         4\n",
       "لبناني                       4\n",
       "تشيكي                        3\n",
       "نمساوي                       3\n",
       "فيتناميه                     2\n",
       "مجري                         2\n",
       "بحريني                       2\n",
       "فلبيني                       2\n",
       "باكستاني                     2\n",
       "هونغ كونغيه                  2\n",
       "تايلانديه                    2\n",
       "روسيه                        2\n",
       "اندونيسي                     2\n",
       "كرواتي                       1\n",
       "كولمبي                       1\n",
       "لاتيفيا                      1\n",
       "موريشس                       1\n",
       "فنلنديه                      1\n",
       "بنجلاديشي                    1\n",
       "رومانيه                      1\n",
       "سيشل                         1\n",
       "كندي                         1\n",
       "كينيه                        1\n",
       "بلغاري                       1\n",
       "اجنبيه                       1\n",
       "يوغوسلافيه                   1\n",
       "اوكراني                      1\n",
       "مكسيكيه                      1\n",
       "بيرويه                       1\n",
       "مغربي                        1\n",
       "تايوانيه                     1\n",
       "ارجنتيني                     1\n",
       "شرق افريقيه                  1\n",
       "Name: Nationality, dtype: int64"
      ]
     },
     "execution_count": 15,
     "metadata": {},
     "output_type": "execute_result"
    }
   ],
   "source": [
    "#Checking nationality \n",
    "commercial_agencies_19.Nationality.value_counts()"
   ]
  },
  {
   "cell_type": "code",
   "execution_count": 16,
   "metadata": {
    "scrolled": true
   },
   "outputs": [
    {
     "data": {
      "text/plain": [
       "امريكي                      55\n",
       "الماني                      41\n",
       "الصين الشعبيه               37\n",
       "المملكة العربية السعودية    35\n",
       "ايطالي                      34\n",
       "بريطاني                     32\n",
       "اماراتي                     27\n",
       "كوريه الجنوبيه              21\n",
       "اسباني                      19\n",
       "هندي                        19\n",
       "تركي                        18\n",
       "فرنسي                       16\n",
       "هولندي                      16\n",
       "سويسري                      15\n",
       "مصري                         9\n",
       "اردني                        8\n",
       "ايرلندي                      8\n",
       "دنمركيه                      7\n",
       "فنلنديه                      6\n",
       "برازيلي                      6\n",
       "بلجيكي                       6\n",
       "ياباني                       5\n",
       "بحريني                       5\n",
       "كويتي                        5\n",
       "سنغافوريه                    5\n",
       "سويديه                       5\n",
       "نمساوي                       5\n",
       "قبرصيه                       5\n",
       "فيتناميه                     4\n",
       "بولندي                       3\n",
       "استرالي                      3\n",
       "روسيه                        3\n",
       "ارجنتيني                     3\n",
       "صينيه وطنيه - تايوان         3\n",
       "رومانيه                      2\n",
       "اوكراني                      2\n",
       "يونانيه                      2\n",
       "ماليزي                       2\n",
       "اسكتلندا                     2\n",
       "نرويجيه                      2\n",
       "تايوانيه                     2\n",
       "برتغاليه                     2\n",
       "بلغاري                       2\n",
       "تشيكي                        2\n",
       "غانيه                        1\n",
       "جنوب افريقيا                 1\n",
       "مغربي                        1\n",
       "جزائري                       1\n",
       "موناكويه                     1\n",
       "كندي                         1\n",
       "البوسنه والهرسك              1\n",
       "عماني                        1\n",
       "سيلاني                       1\n",
       "تونسي                        1\n",
       "اجنبيه                       1\n",
       "سلوفنيه                      1\n",
       "مالطيه                       1\n",
       "اندونيسي                     1\n",
       "تايلانديه                    1\n",
       "لوكسمبرغيه                   1\n",
       "لاتيفيا                      1\n",
       "Name: agency nationality, dtype: int64"
      ]
     },
     "execution_count": 16,
     "metadata": {},
     "output_type": "execute_result"
    }
   ],
   "source": [
    "#Checking nationality \n",
    "commercial_agencies_20[\"agency nationality\"].value_counts()"
   ]
  },
  {
   "cell_type": "code",
   "execution_count": 17,
   "metadata": {},
   "outputs": [
    {
     "data": {
      "text/plain": [
       "وكالة توزيع        357\n",
       "وكالة تجارية       106\n",
       "وكالة امتياز        41\n",
       "وكالة خدمات         21\n",
       "وكالة عقد داخلي      1\n",
       "Name: agency type, dtype: int64"
      ]
     },
     "execution_count": 17,
     "metadata": {},
     "output_type": "execute_result"
    }
   ],
   "source": [
    "#Checking agency types\n",
    "commercial_agencies_20['agency type'].value_counts()"
   ]
  },
  {
   "cell_type": "markdown",
   "metadata": {},
   "source": [
    "### Quality issues\n",
    "- Suadi Arabia rows \n",
    "- Erroneous Datatypes(RequestDate 2019 table)\n",
    "- Missing values\n",
    "- Lowercase names are given in praincipal_name_en\n",
    "- Non-active agency\n",
    "- Missing names (row 137 in 2020 table, 407 and 342 in 2019 table) "
   ]
  },
  {
   "cell_type": "markdown",
   "metadata": {},
   "source": [
    "### Tidiness issues\n",
    "- Not practical columns names\n",
    "- 2020 table should have a date column\n",
    "- Unnecessary columns(RequestId, principal_name_ar , agency name arabicand activity)"
   ]
  },
  {
   "cell_type": "markdown",
   "metadata": {},
   "source": [
    "<a id='Data_cleaning'></a>\n",
    "## Data cleaning "
   ]
  },
  {
   "cell_type": "code",
   "execution_count": 18,
   "metadata": {},
   "outputs": [],
   "source": [
    "#Making a copy for both data\n",
    "comm_agencies_19_clean=commercial_agencies_19.copy()\n",
    "comm_agencies_20_clean=commercial_agencies_20.copy()"
   ]
  },
  {
   "cell_type": "markdown",
   "metadata": {},
   "source": [
    "### Missing data "
   ]
  },
  {
   "cell_type": "code",
   "execution_count": 19,
   "metadata": {},
   "outputs": [],
   "source": [
    "#Dropping Saudi Arabia rows \n",
    "comm_agencies_19_clean=comm_agencies_19_clean[comm_agencies_19_clean.Nationality!='المملكة العربية السعودية']\n",
    "comm_agencies_20_clean=comm_agencies_20_clean[comm_agencies_20_clean['agency nationality']!='المملكة العربية السعودية']"
   ]
  },
  {
   "cell_type": "code",
   "execution_count": 20,
   "metadata": {},
   "outputs": [
    {
     "name": "stderr",
     "output_type": "stream",
     "text": [
      "<ipython-input-20-f420b168b27b>:4: SettingWithCopyWarning: \n",
      "A value is trying to be set on a copy of a slice from a DataFrame\n",
      "\n",
      "See the caveats in the documentation: https://pandas.pydata.org/pandas-docs/stable/user_guide/indexing.html#returning-a-view-versus-a-copy\n",
      "  comm_agencies_19_clean.Principal_Name_En[342]=\"Middle East Veterinary Vaccines\"\n"
     ]
    }
   ],
   "source": [
    "#Writing the missing agency names   \n",
    "comm_agencies_19_clean.Principal_Name_En[407]=\"Mujezat Al-Shifa Company\"\n",
    "\n",
    "comm_agencies_19_clean.Principal_Name_En[342]=\"Middle East Veterinary Vaccines\"\n",
    "\n",
    "comm_agencies_20_clean[\"agency name in english\"][137]=\"European Egyptian Pharmaceutical Industry\""
   ]
  },
  {
   "cell_type": "code",
   "execution_count": 21,
   "metadata": {
    "scrolled": false
   },
   "outputs": [
    {
     "name": "stdout",
     "output_type": "stream",
     "text": [
      "<class 'pandas.core.frame.DataFrame'>\n",
      "Int64Index: 583 entries, 0 to 652\n",
      "Data columns (total 7 columns):\n",
      " #   Column             Non-Null Count  Dtype \n",
      "---  ------             --------------  ----- \n",
      " 0   RequestID          583 non-null    int64 \n",
      " 1   RequestDate        583 non-null    object\n",
      " 2   Status             583 non-null    object\n",
      " 3   City               583 non-null    object\n",
      " 4   Principal_Name_Ar  583 non-null    object\n",
      " 5   Principal_Name_En  583 non-null    object\n",
      " 6   Nationality        583 non-null    object\n",
      "dtypes: int64(1), object(6)\n",
      "memory usage: 56.4+ KB\n"
     ]
    }
   ],
   "source": [
    "#Checking for nulls\n",
    "comm_agencies_19_clean.info()"
   ]
  },
  {
   "cell_type": "code",
   "execution_count": 22,
   "metadata": {},
   "outputs": [
    {
     "name": "stdout",
     "output_type": "stream",
     "text": [
      "<class 'pandas.core.frame.DataFrame'>\n",
      "Int64Index: 491 entries, 0 to 525\n",
      "Data columns (total 7 columns):\n",
      " #   Column                  Non-Null Count  Dtype \n",
      "---  ------                  --------------  ----- \n",
      " 0   agency name in arabic   491 non-null    object\n",
      " 1   agency name in english  491 non-null    object\n",
      " 2   agency nationality      491 non-null    object\n",
      " 3   city                    491 non-null    object\n",
      " 4   agency type             491 non-null    object\n",
      " 5   agency status           491 non-null    object\n",
      " 6   activity                491 non-null    object\n",
      "dtypes: object(7)\n",
      "memory usage: 50.7+ KB\n"
     ]
    }
   ],
   "source": [
    "#Checking for nulls\n",
    "comm_agencies_20_clean.info()"
   ]
  },
  {
   "cell_type": "code",
   "execution_count": 23,
   "metadata": {},
   "outputs": [
    {
     "data": {
      "text/html": [
       "<div>\n",
       "<style scoped>\n",
       "    .dataframe tbody tr th:only-of-type {\n",
       "        vertical-align: middle;\n",
       "    }\n",
       "\n",
       "    .dataframe tbody tr th {\n",
       "        vertical-align: top;\n",
       "    }\n",
       "\n",
       "    .dataframe thead th {\n",
       "        text-align: right;\n",
       "    }\n",
       "</style>\n",
       "<table border=\"1\" class=\"dataframe\">\n",
       "  <thead>\n",
       "    <tr style=\"text-align: right;\">\n",
       "      <th></th>\n",
       "      <th>RequestID</th>\n",
       "      <th>RequestDate</th>\n",
       "      <th>Status</th>\n",
       "      <th>City</th>\n",
       "      <th>Principal_Name_Ar</th>\n",
       "      <th>Principal_Name_En</th>\n",
       "      <th>Nationality</th>\n",
       "    </tr>\n",
       "  </thead>\n",
       "  <tbody>\n",
       "  </tbody>\n",
       "</table>\n",
       "</div>"
      ],
      "text/plain": [
       "Empty DataFrame\n",
       "Columns: [RequestID, RequestDate, Status, City, Principal_Name_Ar, Principal_Name_En, Nationality]\n",
       "Index: []"
      ]
     },
     "execution_count": 23,
     "metadata": {},
     "output_type": "execute_result"
    }
   ],
   "source": [
    "#Checking for saudi arabia rows\n",
    "comm_agencies_19_clean[comm_agencies_19_clean['Nationality']=='المملكة العربية السعودية']"
   ]
  },
  {
   "cell_type": "code",
   "execution_count": 24,
   "metadata": {},
   "outputs": [
    {
     "data": {
      "text/html": [
       "<div>\n",
       "<style scoped>\n",
       "    .dataframe tbody tr th:only-of-type {\n",
       "        vertical-align: middle;\n",
       "    }\n",
       "\n",
       "    .dataframe tbody tr th {\n",
       "        vertical-align: top;\n",
       "    }\n",
       "\n",
       "    .dataframe thead th {\n",
       "        text-align: right;\n",
       "    }\n",
       "</style>\n",
       "<table border=\"1\" class=\"dataframe\">\n",
       "  <thead>\n",
       "    <tr style=\"text-align: right;\">\n",
       "      <th></th>\n",
       "      <th>agency name in arabic</th>\n",
       "      <th>agency name in english</th>\n",
       "      <th>agency nationality</th>\n",
       "      <th>city</th>\n",
       "      <th>agency type</th>\n",
       "      <th>agency status</th>\n",
       "      <th>activity</th>\n",
       "    </tr>\n",
       "  </thead>\n",
       "  <tbody>\n",
       "  </tbody>\n",
       "</table>\n",
       "</div>"
      ],
      "text/plain": [
       "Empty DataFrame\n",
       "Columns: [agency name in arabic, agency name in english, agency nationality, city, agency type, agency status, activity]\n",
       "Index: []"
      ]
     },
     "execution_count": 24,
     "metadata": {},
     "output_type": "execute_result"
    }
   ],
   "source": [
    "#Checking for saudi arabia rows\n",
    "comm_agencies_20_clean[comm_agencies_20_clean['agency nationality']=='المملكة العربية السعودية']"
   ]
  },
  {
   "cell_type": "markdown",
   "metadata": {},
   "source": [
    "### Tidiness"
   ]
  },
  {
   "cell_type": "code",
   "execution_count": 25,
   "metadata": {},
   "outputs": [],
   "source": [
    "#Rename columns \n",
    "comm_agencies_20_clean.rename(columns={\"agency name in arabic\":\"principal_name_Ar\",\n",
    "                                      \"agency name in english\":\"principal_name_En\",\n",
    "                                      \"agency nationality\":\"nationality\",\n",
    "                                      \"agency type\":\"agency_type\",\n",
    "                                      \"agency status\":\"status\"},inplace=True)\n"
   ]
  },
  {
   "cell_type": "code",
   "execution_count": 26,
   "metadata": {},
   "outputs": [],
   "source": [
    "#Rename columns \n",
    "comm_agencies_19_clean.rename(columns={\"RequestID\":\"requestID\",\n",
    "                                      \"RequestDate\":\"date\",\n",
    "                                      \"Status\":\"status\",\n",
    "                                      \"City\":\"city\",\n",
    "                                      \"Principal_Name_Ar\":\"principal_name_Ar\",\n",
    "                                      'Principal_Name_En':'principal_name_En',\n",
    "                                      \"Nationality\":'nationality'},inplace=True)"
   ]
  },
  {
   "cell_type": "code",
   "execution_count": 27,
   "metadata": {},
   "outputs": [],
   "source": [
    "#Create date column\n",
    "comm_agencies_20_clean['date']='2020'"
   ]
  },
  {
   "cell_type": "code",
   "execution_count": 28,
   "metadata": {},
   "outputs": [],
   "source": [
    "#Dropping unnecessary columns \n",
    "comm_agencies_19_clean.drop(columns=['requestID','principal_name_Ar'],axis=1,inplace=True)\n",
    "comm_agencies_20_clean.drop(columns=['principal_name_Ar','activity'],axis=1,inplace=True);"
   ]
  },
  {
   "cell_type": "code",
   "execution_count": 29,
   "metadata": {},
   "outputs": [],
   "source": [
    "#Change the order of columns\n",
    "comm_agencies_19_clean=comm_agencies_19_clean[['principal_name_En','nationality','city','status','date']]"
   ]
  },
  {
   "cell_type": "code",
   "execution_count": 30,
   "metadata": {},
   "outputs": [
    {
     "name": "stdout",
     "output_type": "stream",
     "text": [
      "<class 'pandas.core.frame.DataFrame'>\n",
      "Int64Index: 583 entries, 0 to 652\n",
      "Data columns (total 5 columns):\n",
      " #   Column             Non-Null Count  Dtype \n",
      "---  ------             --------------  ----- \n",
      " 0   principal_name_En  583 non-null    object\n",
      " 1   nationality        583 non-null    object\n",
      " 2   city               583 non-null    object\n",
      " 3   status             583 non-null    object\n",
      " 4   date               583 non-null    object\n",
      "dtypes: object(5)\n",
      "memory usage: 27.3+ KB\n"
     ]
    }
   ],
   "source": [
    "#Checking if the changes applied\n",
    "comm_agencies_19_clean.info()"
   ]
  },
  {
   "cell_type": "code",
   "execution_count": 31,
   "metadata": {
    "scrolled": true
   },
   "outputs": [
    {
     "name": "stdout",
     "output_type": "stream",
     "text": [
      "<class 'pandas.core.frame.DataFrame'>\n",
      "Int64Index: 491 entries, 0 to 525\n",
      "Data columns (total 6 columns):\n",
      " #   Column             Non-Null Count  Dtype \n",
      "---  ------             --------------  ----- \n",
      " 0   principal_name_En  491 non-null    object\n",
      " 1   nationality        491 non-null    object\n",
      " 2   city               491 non-null    object\n",
      " 3   agency_type        491 non-null    object\n",
      " 4   status             491 non-null    object\n",
      " 5   date               491 non-null    object\n",
      "dtypes: object(6)\n",
      "memory usage: 26.9+ KB\n"
     ]
    }
   ],
   "source": [
    "#Checking if the changes applied \n",
    "comm_agencies_20_clean.info()"
   ]
  },
  {
   "cell_type": "markdown",
   "metadata": {},
   "source": [
    "### Quality "
   ]
  },
  {
   "cell_type": "code",
   "execution_count": 32,
   "metadata": {},
   "outputs": [],
   "source": [
    "#Dropping non-active agency \n",
    "comm_agencies_19_clean.drop(index=127,inplace=True)"
   ]
  },
  {
   "cell_type": "code",
   "execution_count": 33,
   "metadata": {},
   "outputs": [
    {
     "data": {
      "text/plain": [
       "قائمة    582\n",
       "Name: status, dtype: int64"
      ]
     },
     "execution_count": 33,
     "metadata": {},
     "output_type": "execute_result"
    }
   ],
   "source": [
    "#Checking if the code worked\n",
    "comm_agencies_19_clean.status.value_counts()"
   ]
  },
  {
   "cell_type": "code",
   "execution_count": 34,
   "metadata": {
    "scrolled": true
   },
   "outputs": [],
   "source": [
    "#Change date datatype\n",
    "comm_agencies_19_clean.date=pd.to_datetime(comm_agencies_19_clean.date).dt.year"
   ]
  },
  {
   "cell_type": "code",
   "execution_count": 35,
   "metadata": {},
   "outputs": [],
   "source": [
    "#Change date datatype\n",
    "comm_agencies_20_clean.date=pd.to_datetime(comm_agencies_20_clean.date).dt.year"
   ]
  },
  {
   "cell_type": "code",
   "execution_count": 36,
   "metadata": {},
   "outputs": [
    {
     "name": "stdout",
     "output_type": "stream",
     "text": [
      "<class 'pandas.core.frame.DataFrame'>\n",
      "Int64Index: 582 entries, 0 to 652\n",
      "Data columns (total 5 columns):\n",
      " #   Column             Non-Null Count  Dtype \n",
      "---  ------             --------------  ----- \n",
      " 0   principal_name_En  582 non-null    object\n",
      " 1   nationality        582 non-null    object\n",
      " 2   city               582 non-null    object\n",
      " 3   status             582 non-null    object\n",
      " 4   date               582 non-null    int64 \n",
      "dtypes: int64(1), object(4)\n",
      "memory usage: 27.3+ KB\n"
     ]
    }
   ],
   "source": [
    "#Checking if the code work\n",
    "comm_agencies_19_clean.info()"
   ]
  },
  {
   "cell_type": "code",
   "execution_count": 37,
   "metadata": {},
   "outputs": [
    {
     "name": "stdout",
     "output_type": "stream",
     "text": [
      "<class 'pandas.core.frame.DataFrame'>\n",
      "Int64Index: 491 entries, 0 to 525\n",
      "Data columns (total 6 columns):\n",
      " #   Column             Non-Null Count  Dtype \n",
      "---  ------             --------------  ----- \n",
      " 0   principal_name_En  491 non-null    object\n",
      " 1   nationality        491 non-null    object\n",
      " 2   city               491 non-null    object\n",
      " 3   agency_type        491 non-null    object\n",
      " 4   status             491 non-null    object\n",
      " 5   date               491 non-null    int64 \n",
      "dtypes: int64(1), object(5)\n",
      "memory usage: 26.9+ KB\n"
     ]
    }
   ],
   "source": [
    "#Checking if the code work\n",
    "comm_agencies_20_clean.info()"
   ]
  },
  {
   "cell_type": "code",
   "execution_count": 38,
   "metadata": {
    "scrolled": true
   },
   "outputs": [],
   "source": [
    "#Capitalize names in 2019 table\n",
    "comm_agencies_19_clean.principal_name_En=comm_agencies_19_clean.principal_name_En.str.capitalize()"
   ]
  },
  {
   "cell_type": "code",
   "execution_count": 39,
   "metadata": {},
   "outputs": [],
   "source": [
    "#Capitalize names in 2020 table\n",
    "comm_agencies_20_clean.principal_name_En=comm_agencies_20_clean.principal_name_En.str.capitalize()"
   ]
  },
  {
   "cell_type": "code",
   "execution_count": 40,
   "metadata": {},
   "outputs": [
    {
     "data": {
      "text/html": [
       "<div>\n",
       "<style scoped>\n",
       "    .dataframe tbody tr th:only-of-type {\n",
       "        vertical-align: middle;\n",
       "    }\n",
       "\n",
       "    .dataframe tbody tr th {\n",
       "        vertical-align: top;\n",
       "    }\n",
       "\n",
       "    .dataframe thead th {\n",
       "        text-align: right;\n",
       "    }\n",
       "</style>\n",
       "<table border=\"1\" class=\"dataframe\">\n",
       "  <thead>\n",
       "    <tr style=\"text-align: right;\">\n",
       "      <th></th>\n",
       "      <th>principal_name_En</th>\n",
       "      <th>nationality</th>\n",
       "      <th>city</th>\n",
       "      <th>status</th>\n",
       "      <th>date</th>\n",
       "    </tr>\n",
       "  </thead>\n",
       "  <tbody>\n",
       "  </tbody>\n",
       "</table>\n",
       "</div>"
      ],
      "text/plain": [
       "Empty DataFrame\n",
       "Columns: [principal_name_En, nationality, city, status, date]\n",
       "Index: []"
      ]
     },
     "execution_count": 40,
     "metadata": {},
     "output_type": "execute_result"
    }
   ],
   "source": [
    "#Checking if the code worked\n",
    "comm_agencies_19_clean[comm_agencies_19_clean.principal_name_En.str.islower()]"
   ]
  },
  {
   "cell_type": "code",
   "execution_count": 41,
   "metadata": {},
   "outputs": [
    {
     "data": {
      "text/html": [
       "<div>\n",
       "<style scoped>\n",
       "    .dataframe tbody tr th:only-of-type {\n",
       "        vertical-align: middle;\n",
       "    }\n",
       "\n",
       "    .dataframe tbody tr th {\n",
       "        vertical-align: top;\n",
       "    }\n",
       "\n",
       "    .dataframe thead th {\n",
       "        text-align: right;\n",
       "    }\n",
       "</style>\n",
       "<table border=\"1\" class=\"dataframe\">\n",
       "  <thead>\n",
       "    <tr style=\"text-align: right;\">\n",
       "      <th></th>\n",
       "      <th>principal_name_En</th>\n",
       "      <th>nationality</th>\n",
       "      <th>city</th>\n",
       "      <th>agency_type</th>\n",
       "      <th>status</th>\n",
       "      <th>date</th>\n",
       "    </tr>\n",
       "  </thead>\n",
       "  <tbody>\n",
       "    <tr>\n",
       "      <th>11</th>\n",
       "      <td>3x engineering</td>\n",
       "      <td>موناكويه</td>\n",
       "      <td>الدمام</td>\n",
       "      <td>وكالة خدمات</td>\n",
       "      <td>قائمة</td>\n",
       "      <td>2020</td>\n",
       "    </tr>\n",
       "    <tr>\n",
       "      <th>96</th>\n",
       "      <td>2m kablo dis ticaret ve pazarlama a.s.</td>\n",
       "      <td>تركي</td>\n",
       "      <td>الدمام</td>\n",
       "      <td>وكالة تجارية</td>\n",
       "      <td>قائمة</td>\n",
       "      <td>2020</td>\n",
       "    </tr>\n",
       "  </tbody>\n",
       "</table>\n",
       "</div>"
      ],
      "text/plain": [
       "                         principal_name_En nationality    city   agency_type status  date\n",
       "11                          3x engineering    موناكويه  الدمام   وكالة خدمات  قائمة  2020\n",
       "96  2m kablo dis ticaret ve pazarlama a.s.        تركي  الدمام  وكالة تجارية  قائمة  2020"
      ]
     },
     "execution_count": 41,
     "metadata": {},
     "output_type": "execute_result"
    }
   ],
   "source": [
    "#Checking if the code worked\n",
    "comm_agencies_20_clean[comm_agencies_20_clean.principal_name_En.str.islower()]"
   ]
  },
  {
   "cell_type": "code",
   "execution_count": 42,
   "metadata": {},
   "outputs": [],
   "source": [
    "#Merge the two table\n",
    "comm_agen_master=comm_agencies_20_clean.merge(comm_agencies_19_clean,how='outer')"
   ]
  },
  {
   "cell_type": "markdown",
   "metadata": {},
   "source": [
    "### Storing Data"
   ]
  },
  {
   "cell_type": "code",
   "execution_count": 43,
   "metadata": {
    "scrolled": true
   },
   "outputs": [],
   "source": [
    "#Storing\n",
    "comm_agen_master.to_csv('com_agencies_master',index=False)"
   ]
  },
  {
   "cell_type": "markdown",
   "metadata": {},
   "source": [
    "<a id='Analyzing'></a>\n",
    "## Analyzing and Visualizing Data"
   ]
  },
  {
   "cell_type": "code",
   "execution_count": 44,
   "metadata": {},
   "outputs": [],
   "source": [
    "#Loading the dataset\n",
    "com_agen=pd.read_csv('com_agencies_master')"
   ]
  },
  {
   "cell_type": "code",
   "execution_count": 45,
   "metadata": {},
   "outputs": [
    {
     "data": {
      "text/html": [
       "<div>\n",
       "<style scoped>\n",
       "    .dataframe tbody tr th:only-of-type {\n",
       "        vertical-align: middle;\n",
       "    }\n",
       "\n",
       "    .dataframe tbody tr th {\n",
       "        vertical-align: top;\n",
       "    }\n",
       "\n",
       "    .dataframe thead th {\n",
       "        text-align: right;\n",
       "    }\n",
       "</style>\n",
       "<table border=\"1\" class=\"dataframe\">\n",
       "  <thead>\n",
       "    <tr style=\"text-align: right;\">\n",
       "      <th></th>\n",
       "      <th>principal_name_En</th>\n",
       "      <th>nationality</th>\n",
       "      <th>city</th>\n",
       "      <th>agency_type</th>\n",
       "      <th>status</th>\n",
       "      <th>date</th>\n",
       "    </tr>\n",
       "  </thead>\n",
       "  <tbody>\n",
       "    <tr>\n",
       "      <th>0</th>\n",
       "      <td>Quam srl</td>\n",
       "      <td>ايطالي</td>\n",
       "      <td>الدمام</td>\n",
       "      <td>وكالة تجارية</td>\n",
       "      <td>قائمة</td>\n",
       "      <td>2020</td>\n",
       "    </tr>\n",
       "    <tr>\n",
       "      <th>1</th>\n",
       "      <td>Baicon sdn . nhd</td>\n",
       "      <td>ماليزي</td>\n",
       "      <td>الدمام</td>\n",
       "      <td>وكالة توزيع</td>\n",
       "      <td>قائمة</td>\n",
       "      <td>2020</td>\n",
       "    </tr>\n",
       "    <tr>\n",
       "      <th>2</th>\n",
       "      <td>Skin jam general trading</td>\n",
       "      <td>اماراتي</td>\n",
       "      <td>الدمام</td>\n",
       "      <td>وكالة امتياز</td>\n",
       "      <td>قائمة</td>\n",
       "      <td>2020</td>\n",
       "    </tr>\n",
       "    <tr>\n",
       "      <th>3</th>\n",
       "      <td>Epygen labs fz -llc</td>\n",
       "      <td>اماراتي</td>\n",
       "      <td>الدمام</td>\n",
       "      <td>وكالة تجارية</td>\n",
       "      <td>قائمة</td>\n",
       "      <td>2020</td>\n",
       "    </tr>\n",
       "    <tr>\n",
       "      <th>4</th>\n",
       "      <td>Cazador tekstil san ve tic as</td>\n",
       "      <td>تركي</td>\n",
       "      <td>الدمام</td>\n",
       "      <td>وكالة تجارية</td>\n",
       "      <td>قائمة</td>\n",
       "      <td>2020</td>\n",
       "    </tr>\n",
       "  </tbody>\n",
       "</table>\n",
       "</div>"
      ],
      "text/plain": [
       "               principal_name_En nationality    city   agency_type status  date\n",
       "0                       Quam srl      ايطالي  الدمام  وكالة تجارية  قائمة  2020\n",
       "1               Baicon sdn . nhd      ماليزي  الدمام   وكالة توزيع  قائمة  2020\n",
       "2       Skin jam general trading     اماراتي  الدمام  وكالة امتياز  قائمة  2020\n",
       "3            Epygen labs fz -llc     اماراتي  الدمام  وكالة تجارية  قائمة  2020\n",
       "4  Cazador tekstil san ve tic as        تركي  الدمام  وكالة تجارية  قائمة  2020"
      ]
     },
     "execution_count": 45,
     "metadata": {},
     "output_type": "execute_result"
    }
   ],
   "source": [
    "#Checking the first few lines\n",
    "com_agen.head()"
   ]
  },
  {
   "cell_type": "markdown",
   "metadata": {},
   "source": [
    "#### Is there an increase of number agencies in cities? "
   ]
  },
  {
   "cell_type": "code",
   "execution_count": 46,
   "metadata": {},
   "outputs": [],
   "source": [
    "#Create a function to display Arabic words correctly\n",
    "def display_arabic(word):\n",
    "    return {get_display(arabic_reshaper.reshape(i)): i for i in word}"
   ]
  },
  {
   "cell_type": "code",
   "execution_count": 47,
   "metadata": {},
   "outputs": [],
   "source": [
    "#Reshape cities to display it correctly \n",
    "cities=display_arabic(com_agen.city)"
   ]
  },
  {
   "cell_type": "code",
   "execution_count": 48,
   "metadata": {},
   "outputs": [
    {
     "data": {
      "image/png": "[encoded data removed]",
      "text/plain": [
       "<Figure size 432x288 with 1 Axes>"
      ]
     },
     "metadata": {
      "needs_background": "light"
     },
     "output_type": "display_data"
    }
   ],
   "source": [
    "#Plot number of cities by date\n",
    "sns.countplot('city',hue='date',data=com_agen,order=com_agen.city.value_counts().index,palette='viridis')\n",
    "\n",
    "#Replace labels to display them correctly \n",
    "plt.xticks([1,0,2],labels=cities);\n",
    "\n",
    "plt.title('Number of agencies by the cities for both years');"
   ]
  },
  {
   "cell_type": "markdown",
   "metadata": {},
   "source": [
    "Agencies number in  Riyadh and Dammam has been decreasing, but for Jeddah is the same. Overall, the number of agencies in 2020 is less than the previous year."
   ]
  },
  {
   "cell_type": "markdown",
   "metadata": {},
   "source": [
    "#### What are the top 10 nationalities for both years?"
   ]
  },
  {
   "cell_type": "code",
   "execution_count": 49,
   "metadata": {},
   "outputs": [],
   "source": [
    "#filter by 2019 agencies \n",
    "com_agen_19=com_agen[com_agen.date==2019]\n",
    "\n",
    "#Reshape nationalities to display it correctly for 2019\n",
    "nationality19=display_arabic(com_agen_19.nationality.value_counts().index)\n",
    "\n",
    "#Filter by 2020 agencies \n",
    "com_agen_20=com_agen[com_agen.date==2020]\n",
    "\n",
    "#Reshape nationalities to display it correctly for 2020\n",
    "nationality20=display_arabic(com_agen_20.nationality.value_counts().index)"
   ]
  },
  {
   "cell_type": "code",
   "execution_count": 50,
   "metadata": {
    "scrolled": false
   },
   "outputs": [
    {
     "data": {
      "image/png": "[encoded data removed]",
      "text/plain": [
       "<Figure size 1008x360 with 2 Axes>"
      ]
     },
     "metadata": {
      "needs_background": "light"
     },
     "output_type": "display_data"
    }
   ],
   "source": [
    "plt.figure(figsize=[14,5])\n",
    "\n",
    "#Plot top nationalities in 2019\n",
    "plt.subplot(1,2,1)\n",
    "\n",
    "sns.countplot('nationality',data=com_agen_19,order=com_agen_19.nationality.value_counts().iloc[:10].index\n",
    "             ,palette='viridis')\n",
    "#Replace labels with the correct names\n",
    "plt.xticks([i for i in range(10)],nationality19,rotation=45)\n",
    "plt.xlabel(\"\")\n",
    "plt.title('Top 10 agency nationalities in 2019');\n",
    "\n",
    "#Plot top nationalities in 2020\n",
    "plt.subplot(1,2,2)\n",
    "\n",
    "sns.countplot('nationality',data=com_agen_20,order=com_agen_20.nationality.value_counts().iloc[:10].index\n",
    "             ,palette='viridis')\n",
    "plt.xticks([i for i in range(10)],nationality20,rotation=45)\n",
    "plt.title('Top 10 agency nationalities in 2020');\n",
    "plt.xlabel(\"\");"
   ]
  },
  {
   "cell_type": "markdown",
   "metadata": {},
   "source": [
    "The agencies for both years are almost the same but have different ranks.\n",
    "Chinese agencies are top for 2019 but it decreases in 2020 to third place, and American and German agencies are increasing, for British, Switzer, Indian, and  Korean they decrease, Emiratis and Turkish are the same ranks."
   ]
  },
  {
   "cell_type": "markdown",
   "metadata": {},
   "source": [
    "#### What are the cities top nationalities prefer?"
   ]
  },
  {
   "cell_type": "code",
   "execution_count": 51,
   "metadata": {},
   "outputs": [],
   "source": [
    "def create_stacked_plot(data,column1,column2):\n",
    "    \"\"\" Function create stacked bar chart \"\"\"\n",
    "    \n",
    "    #List of first category \n",
    "    categories1_order=list(data[column1].value_counts().iloc[:10].index)\n",
    "    #List of second category\n",
    "    categories2_order=list(data[column2].value_counts().index)\n",
    "    #List of base heights\n",
    "    baselines=np.zeros(len(categories1_order))\n",
    "    #choose color palette\n",
    "    base_c=sns.color_palette('viridis',n_colors=len(categories2_order))\n",
    "    # for storing references to plot elements\n",
    "    agency=[]\n",
    "    \n",
    "    \n",
    "    for i in range(len(categories2_order)):\n",
    "        # isolate the counts of the first category\n",
    "        cate=categories2_order[i]\n",
    "        inner_counts=data[data[column2] == cate][column1].value_counts()\n",
    "        # then plot those counts on top of the accumulated baseline\n",
    "        bars=plt.bar(x= np.arange(len(categories1_order)),height=inner_counts.reindex(categories1_order),\n",
    "                             bottom=baselines, color=base_c[i])\n",
    "        agency.append(bars)\n",
    "        baselines += inner_counts.reindex(categories1_order)\n",
    "        \n",
    "    categories1_arabic=display_arabic(categories1_order)\n",
    "    plt.xticks(np.arange(len(categories1_order)),categories1_arabic,rotation=45)\n",
    "    \n",
    "    categories2_legend=display_arabic(categories2_order)\n",
    "    plt.legend(reversed(agency),reversed(categories2_legend))"
   ]
  },
  {
   "cell_type": "code",
   "execution_count": 52,
   "metadata": {},
   "outputs": [
    {
     "data": {
      "image/png": "[encoded data removed]",
      "text/plain": [
       "<Figure size 1008x360 with 2 Axes>"
      ]
     },
     "metadata": {
      "needs_background": "light"
     },
     "output_type": "display_data"
    }
   ],
   "source": [
    "plt.figure(figsize=[14,5])\n",
    "\n",
    "plt.subplot(1,2,1)\n",
    "#plot 2019 nationalities by city\n",
    "create_stacked_plot(com_agen_19,'nationality','city')\n",
    "plt.title(\"Top 10 nationalities by city 2019\");\n",
    "\n",
    "#plot 2020 nationalities by city\n",
    "plt.subplot(1,2,2)\n",
    "create_stacked_plot(com_agen_20,'nationality','city')\n",
    "plt.title(\"Top 10 nationality by city 2020\");"
   ]
  },
  {
   "cell_type": "markdown",
   "metadata": {},
   "source": [
    "For both years,  agencies prefer Riyadh as the first choice and Dammam as the second."
   ]
  },
  {
   "cell_type": "markdown",
   "metadata": {},
   "source": [
    "#### what are agency types for 2020 nationalities?"
   ]
  },
  {
   "cell_type": "code",
   "execution_count": 53,
   "metadata": {},
   "outputs": [
    {
     "data": {
      "image/png": "[encoded data removed]",
      "text/plain": [
       "<Figure size 432x288 with 1 Axes>"
      ]
     },
     "metadata": {
      "needs_background": "light"
     },
     "output_type": "display_data"
    }
   ],
   "source": [
    "#Plot nationalities by types\n",
    "create_stacked_plot(com_agen_20,'nationality','agency_type')\n",
    "plt.title('Top 10 nationalities by types');"
   ]
  },
  {
   "cell_type": "markdown",
   "metadata": {},
   "source": [
    "The distribution type is the most common one, followed by a commercial type, and the less two are franchise and service types."
   ]
  },
  {
   "cell_type": "markdown",
   "metadata": {},
   "source": [
    "#### Where do most agency types locate? "
   ]
  },
  {
   "cell_type": "code",
   "execution_count": 54,
   "metadata": {},
   "outputs": [
    {
     "data": {
      "image/png": "[encoded data removed]",
      "text/plain": [
       "<Figure size 432x288 with 1 Axes>"
      ]
     },
     "metadata": {
      "needs_background": "light"
     },
     "output_type": "display_data"
    }
   ],
   "source": [
    "#Plot agecny by cities\n",
    "create_stacked_plot(com_agen_20,'agency_type','city')\n",
    "plt.title(\"Types by cities\");"
   ]
  },
  {
   "cell_type": "markdown",
   "metadata": {},
   "source": [
    "Most distribution agencies are in Riyadh and evenly in Dammam and Jeddah, for commercial agencies are equally in Riyadh and Dammam and less in Jeddah, franchise mostly in Riyadh, and for service agencies are in Dammam."
   ]
  },
  {
   "cell_type": "markdown",
   "metadata": {},
   "source": [
    "### Conclusion "
   ]
  },
  {
   "cell_type": "markdown",
   "metadata": {},
   "source": [
    "Many things happened in 2020 that led to decreased number of agencies, but that doesn’t hide the fact both has almost the same agencies but different rank, almost all of those are distribution agencies and prefer Riyadh and Dammam."
   ]
  }
 ],
 "metadata": {
  "kernelspec": {
   "display_name": "Python 3",
   "language": "python",
   "name": "python3"
  },
  "language_info": {
   "codemirror_mode": {
    "name": "ipython",
    "version": 3
   },
   "file_extension": ".py",
   "mimetype": "text/x-python",
   "name": "python",
   "nbconvert_exporter": "python",
   "pygments_lexer": "ipython3",
   "version": "3.8.3"
  }
 },
 "nbformat": 4,
 "nbformat_minor": 4
}
